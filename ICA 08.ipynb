{
 "cells": [
  {
   "cell_type": "code",
   "execution_count": 1,
   "id": "d1bd23f6",
   "metadata": {},
   "outputs": [],
   "source": [
    "#ICA 08\n",
    "#October 18 2022\n",
    "#Practice for Quiz\n"
   ]
  },
  {
   "cell_type": "code",
   "execution_count": 2,
   "id": "0b35f527",
   "metadata": {},
   "outputs": [
    {
     "data": {
      "text/html": [
       "<div>\n",
       "<style scoped>\n",
       "    .dataframe tbody tr th:only-of-type {\n",
       "        vertical-align: middle;\n",
       "    }\n",
       "\n",
       "    .dataframe tbody tr th {\n",
       "        vertical-align: top;\n",
       "    }\n",
       "\n",
       "    .dataframe thead th {\n",
       "        text-align: right;\n",
       "    }\n",
       "</style>\n",
       "<table border=\"1\" class=\"dataframe\">\n",
       "  <thead>\n",
       "    <tr style=\"text-align: right;\">\n",
       "      <th></th>\n",
       "      <th>ID</th>\n",
       "      <th>Zip Code</th>\n",
       "      <th>Year Built</th>\n",
       "      <th>Price</th>\n",
       "      <th>Living Space (SQFT)</th>\n",
       "      <th>Lot Space (SQFT)</th>\n",
       "      <th>Bedrooms</th>\n",
       "      <th>Bathrooms</th>\n",
       "      <th>Number of Floors</th>\n",
       "      <th>Basement</th>\n",
       "      <th>Waterfront</th>\n",
       "    </tr>\n",
       "  </thead>\n",
       "  <tbody>\n",
       "    <tr>\n",
       "      <th>0</th>\n",
       "      <td>439</td>\n",
       "      <td>98115</td>\n",
       "      <td>2000</td>\n",
       "      <td>438000</td>\n",
       "      <td>1270</td>\n",
       "      <td>1372</td>\n",
       "      <td>2</td>\n",
       "      <td>2</td>\n",
       "      <td>3</td>\n",
       "      <td>No</td>\n",
       "      <td>Yes</td>\n",
       "    </tr>\n",
       "    <tr>\n",
       "      <th>1</th>\n",
       "      <td>607</td>\n",
       "      <td>98103</td>\n",
       "      <td>2000</td>\n",
       "      <td>531000</td>\n",
       "      <td>1270</td>\n",
       "      <td>1175</td>\n",
       "      <td>2</td>\n",
       "      <td>3</td>\n",
       "      <td>2</td>\n",
       "      <td>Yes</td>\n",
       "      <td>Yes</td>\n",
       "    </tr>\n",
       "    <tr>\n",
       "      <th>2</th>\n",
       "      <td>2462</td>\n",
       "      <td>98040</td>\n",
       "      <td>2000</td>\n",
       "      <td>1700000</td>\n",
       "      <td>4930</td>\n",
       "      <td>14649</td>\n",
       "      <td>5</td>\n",
       "      <td>5</td>\n",
       "      <td>2</td>\n",
       "      <td>Yes</td>\n",
       "      <td>Yes</td>\n",
       "    </tr>\n",
       "    <tr>\n",
       "      <th>3</th>\n",
       "      <td>2748</td>\n",
       "      <td>98075</td>\n",
       "      <td>2000</td>\n",
       "      <td>726000</td>\n",
       "      <td>2970</td>\n",
       "      <td>10335</td>\n",
       "      <td>5</td>\n",
       "      <td>3</td>\n",
       "      <td>2</td>\n",
       "      <td>No</td>\n",
       "      <td>Yes</td>\n",
       "    </tr>\n",
       "    <tr>\n",
       "      <th>4</th>\n",
       "      <td>2856</td>\n",
       "      <td>98122</td>\n",
       "      <td>2000</td>\n",
       "      <td>582000</td>\n",
       "      <td>1670</td>\n",
       "      <td>1189</td>\n",
       "      <td>4</td>\n",
       "      <td>3</td>\n",
       "      <td>3</td>\n",
       "      <td>Yes</td>\n",
       "      <td>Yes</td>\n",
       "    </tr>\n",
       "    <tr>\n",
       "      <th>...</th>\n",
       "      <td>...</td>\n",
       "      <td>...</td>\n",
       "      <td>...</td>\n",
       "      <td>...</td>\n",
       "      <td>...</td>\n",
       "      <td>...</td>\n",
       "      <td>...</td>\n",
       "      <td>...</td>\n",
       "      <td>...</td>\n",
       "      <td>...</td>\n",
       "      <td>...</td>\n",
       "    </tr>\n",
       "    <tr>\n",
       "      <th>507</th>\n",
       "      <td>21413</td>\n",
       "      <td>98168</td>\n",
       "      <td>2014</td>\n",
       "      <td>334950</td>\n",
       "      <td>2230</td>\n",
       "      <td>8642</td>\n",
       "      <td>5</td>\n",
       "      <td>3</td>\n",
       "      <td>1</td>\n",
       "      <td>Yes</td>\n",
       "      <td>Yes</td>\n",
       "    </tr>\n",
       "    <tr>\n",
       "      <th>508</th>\n",
       "      <td>21487</td>\n",
       "      <td>98024</td>\n",
       "      <td>2014</td>\n",
       "      <td>1459000</td>\n",
       "      <td>4620</td>\n",
       "      <td>130208</td>\n",
       "      <td>4</td>\n",
       "      <td>4</td>\n",
       "      <td>2</td>\n",
       "      <td>No</td>\n",
       "      <td>No</td>\n",
       "    </tr>\n",
       "    <tr>\n",
       "      <th>509</th>\n",
       "      <td>21523</td>\n",
       "      <td>98118</td>\n",
       "      <td>2014</td>\n",
       "      <td>462500</td>\n",
       "      <td>2390</td>\n",
       "      <td>4000</td>\n",
       "      <td>6</td>\n",
       "      <td>3</td>\n",
       "      <td>2</td>\n",
       "      <td>No</td>\n",
       "      <td>Yes</td>\n",
       "    </tr>\n",
       "    <tr>\n",
       "      <th>510</th>\n",
       "      <td>21575</td>\n",
       "      <td>98103</td>\n",
       "      <td>2014</td>\n",
       "      <td>610950</td>\n",
       "      <td>1680</td>\n",
       "      <td>1570</td>\n",
       "      <td>3</td>\n",
       "      <td>3</td>\n",
       "      <td>3</td>\n",
       "      <td>No</td>\n",
       "      <td>No</td>\n",
       "    </tr>\n",
       "    <tr>\n",
       "      <th>511</th>\n",
       "      <td>21605</td>\n",
       "      <td>98144</td>\n",
       "      <td>2014</td>\n",
       "      <td>429000</td>\n",
       "      <td>1490</td>\n",
       "      <td>1126</td>\n",
       "      <td>3</td>\n",
       "      <td>2</td>\n",
       "      <td>3</td>\n",
       "      <td>No</td>\n",
       "      <td>No</td>\n",
       "    </tr>\n",
       "  </tbody>\n",
       "</table>\n",
       "<p>512 rows × 11 columns</p>\n",
       "</div>"
      ],
      "text/plain": [
       "        ID  Zip Code  Year Built    Price  Living Space (SQFT)  \\\n",
       "0      439     98115        2000   438000                 1270   \n",
       "1      607     98103        2000   531000                 1270   \n",
       "2     2462     98040        2000  1700000                 4930   \n",
       "3     2748     98075        2000   726000                 2970   \n",
       "4     2856     98122        2000   582000                 1670   \n",
       "..     ...       ...         ...      ...                  ...   \n",
       "507  21413     98168        2014   334950                 2230   \n",
       "508  21487     98024        2014  1459000                 4620   \n",
       "509  21523     98118        2014   462500                 2390   \n",
       "510  21575     98103        2014   610950                 1680   \n",
       "511  21605     98144        2014   429000                 1490   \n",
       "\n",
       "     Lot Space (SQFT)  Bedrooms  Bathrooms  Number of Floors Basement  \\\n",
       "0                1372         2          2                 3       No   \n",
       "1                1175         2          3                 2      Yes   \n",
       "2               14649         5          5                 2      Yes   \n",
       "3               10335         5          3                 2       No   \n",
       "4                1189         4          3                 3      Yes   \n",
       "..                ...       ...        ...               ...      ...   \n",
       "507              8642         5          3                 1      Yes   \n",
       "508            130208         4          4                 2       No   \n",
       "509              4000         6          3                 2       No   \n",
       "510              1570         3          3                 3       No   \n",
       "511              1126         3          2                 3       No   \n",
       "\n",
       "    Waterfront  \n",
       "0          Yes  \n",
       "1          Yes  \n",
       "2          Yes  \n",
       "3          Yes  \n",
       "4          Yes  \n",
       "..         ...  \n",
       "507        Yes  \n",
       "508         No  \n",
       "509        Yes  \n",
       "510         No  \n",
       "511         No  \n",
       "\n",
       "[512 rows x 11 columns]"
      ]
     },
     "execution_count": 2,
     "metadata": {},
     "output_type": "execute_result"
    }
   ],
   "source": [
    "import pandas as pd\n",
    "\n",
    "path = '/Users/nicolelubaczewska/Downloads/housing.csv'\n",
    "\n",
    "housing = pd.read_csv(path)\n",
    "\n",
    "housing"
   ]
  },
  {
   "cell_type": "code",
   "execution_count": 5,
   "id": "5d8e1af8",
   "metadata": {},
   "outputs": [],
   "source": [
    "#1.a"
   ]
  },
  {
   "cell_type": "code",
   "execution_count": 81,
   "id": "c23b737f",
   "metadata": {},
   "outputs": [
    {
     "name": "stdout",
     "output_type": "stream",
     "text": [
      "<class 'pandas.core.frame.DataFrame'>\n",
      "RangeIndex: 512 entries, 0 to 511\n",
      "Data columns (total 11 columns):\n",
      " #   Column               Non-Null Count  Dtype \n",
      "---  ------               --------------  ----- \n",
      " 0   ID                   512 non-null    int64 \n",
      " 1   Zip Code             512 non-null    int64 \n",
      " 2   Year Built           512 non-null    int64 \n",
      " 3   Price                512 non-null    int64 \n",
      " 4   Living Space (SQFT)  512 non-null    int64 \n",
      " 5   Lot Space (SQFT)     512 non-null    int64 \n",
      " 6   Bedrooms             512 non-null    int64 \n",
      " 7   Bathrooms            512 non-null    int64 \n",
      " 8   Number of Floors     512 non-null    int64 \n",
      " 9   Basement             512 non-null    object\n",
      " 10  Waterfront           512 non-null    object\n",
      "dtypes: int64(9), object(2)\n",
      "memory usage: 44.1+ KB\n"
     ]
    }
   ],
   "source": [
    "#2.c\n",
    "\n",
    "#why here diff answer? 4 categorical?\n",
    "\n",
    "housing.info()\n"
   ]
  },
  {
   "cell_type": "code",
   "execution_count": 22,
   "id": "a2e06d40",
   "metadata": {},
   "outputs": [
    {
     "data": {
      "text/plain": [
       "373    1449\n",
       "Name: ID, dtype: int64"
      ]
     },
     "execution_count": 22,
     "metadata": {},
     "output_type": "execute_result"
    }
   ],
   "source": [
    "#3.a\n",
    "\n",
    "housing.Price.max()\n",
    "housing.ID[housing.Price == 5350000]"
   ]
  },
  {
   "cell_type": "code",
   "execution_count": 8,
   "id": "ecd189b6",
   "metadata": {},
   "outputs": [
    {
     "data": {
      "text/plain": [
       "False    404\n",
       "True     108\n",
       "dtype: int64"
      ]
     },
     "execution_count": 8,
     "metadata": {},
     "output_type": "execute_result"
    }
   ],
   "source": [
    "#4.b\n",
    "\n",
    "((housing.Bathrooms == 2) & (housing.Bedrooms >=3)).value_counts()"
   ]
  },
  {
   "cell_type": "code",
   "execution_count": 36,
   "id": "680478ef",
   "metadata": {},
   "outputs": [
    {
     "data": {
      "text/plain": [
       "0.7890625"
      ]
     },
     "execution_count": 36,
     "metadata": {},
     "output_type": "execute_result"
    }
   ],
   "source": [
    "#5.d\n",
    "housing[housing ['Year Built'] < 2010]\n",
    "404/512"
   ]
  },
  {
   "cell_type": "code",
   "execution_count": 37,
   "id": "9fa7ff28",
   "metadata": {},
   "outputs": [
    {
     "data": {
      "text/plain": [
       "5094.5"
      ]
     },
     "execution_count": 37,
     "metadata": {},
     "output_type": "execute_result"
    }
   ],
   "source": [
    "#6.a\n",
    "\n",
    "housing['Lot Space (SQFT)'].median()"
   ]
  },
  {
   "cell_type": "code",
   "execution_count": 3,
   "id": "301da7c9",
   "metadata": {},
   "outputs": [
    {
     "data": {
      "text/plain": [
       "(array([385.,  76.,  32.,   7.,   4.,   5.,   1.,   0.,   1.,   1.]),\n",
       " array([ 155000.,  674500., 1194000., 1713500., 2233000., 2752500.,\n",
       "        3272000., 3791500., 4311000., 4830500., 5350000.]),\n",
       " <BarContainer object of 10 artists>)"
      ]
     },
     "execution_count": 3,
     "metadata": {},
     "output_type": "execute_result"
    },
    {
     "data": {
      "image/png": "[encoded data removed]",
      "text/plain": [
       "<Figure size 432x288 with 1 Axes>"
      ]
     },
     "metadata": {
      "needs_background": "light"
     },
     "output_type": "display_data"
    }
   ],
   "source": [
    "#7.c\n",
    "\n",
    "import matplotlib.pyplot as plt\n",
    "\n",
    "plt.hist(housing.Price)"
   ]
  },
  {
   "cell_type": "code",
   "execution_count": 37,
   "id": "44ffae66",
   "metadata": {},
   "outputs": [
    {
     "data": {
      "text/plain": [
       "-48893.61473100004"
      ]
     },
     "execution_count": 37,
     "metadata": {},
     "output_type": "execute_result"
    }
   ],
   "source": [
    "#8.a\n",
    "\n",
    "\n",
    "housing[['Bedrooms','Price']].groupby('Bedrooms').agg('mean')\n",
    "\n",
    "444822.273504-493715.888235"
   ]
  },
  {
   "cell_type": "code",
   "execution_count": 41,
   "id": "8fdde07c",
   "metadata": {},
   "outputs": [
    {
     "data": {
      "text/plain": [
       "No     342\n",
       "Yes    170\n",
       "Name: Basement, dtype: int64"
      ]
     },
     "execution_count": 41,
     "metadata": {},
     "output_type": "execute_result"
    }
   ],
   "source": [
    "#9.d #categorical cannot be symetrical and modality, just uniform or not\n",
    "\n",
    "housing.Basement.value_counts()\n",
    "\n"
   ]
  },
  {
   "cell_type": "code",
   "execution_count": 47,
   "id": "5b1d954d",
   "metadata": {},
   "outputs": [
    {
     "data": {
      "text/plain": [
       "1245.6973286567954"
      ]
     },
     "execution_count": 47,
     "metadata": {},
     "output_type": "execute_result"
    }
   ],
   "source": [
    "#10.a\n",
    "\n",
    "housing['Lot Space (SQFT)'].std()\n",
    "housing['Living Space (SQFT)'].std()"
   ]
  },
  {
   "cell_type": "code",
   "execution_count": 50,
   "id": "66c3c6cf",
   "metadata": {},
   "outputs": [
    {
     "data": {
      "text/plain": [
       "2014"
      ]
     },
     "execution_count": 50,
     "metadata": {},
     "output_type": "execute_result"
    }
   ],
   "source": [
    "#11.b\n",
    "\n",
    "housing['Year Built'].min()\n",
    "housing['Year Built'].max()"
   ]
  },
  {
   "cell_type": "code",
   "execution_count": 92,
   "id": "5f9b2e59",
   "metadata": {},
   "outputs": [
    {
     "data": {
      "image/png": "[encoded data removed]",
      "text/plain": [
       "<Figure size 432x288 with 1 Axes>"
      ]
     },
     "metadata": {
      "needs_background": "light"
     },
     "output_type": "display_data"
    },
    {
     "data": {
      "text/html": [
       "<div>\n",
       "<style scoped>\n",
       "    .dataframe tbody tr th:only-of-type {\n",
       "        vertical-align: middle;\n",
       "    }\n",
       "\n",
       "    .dataframe tbody tr th {\n",
       "        vertical-align: top;\n",
       "    }\n",
       "\n",
       "    .dataframe thead th {\n",
       "        text-align: right;\n",
       "    }\n",
       "</style>\n",
       "<table border=\"1\" class=\"dataframe\">\n",
       "  <thead>\n",
       "    <tr style=\"text-align: right;\">\n",
       "      <th></th>\n",
       "      <th>Price</th>\n",
       "      <th>Living Space (SQFT)</th>\n",
       "    </tr>\n",
       "  </thead>\n",
       "  <tbody>\n",
       "    <tr>\n",
       "      <th>Price</th>\n",
       "      <td>1.000000</td>\n",
       "      <td>0.763001</td>\n",
       "    </tr>\n",
       "    <tr>\n",
       "      <th>Living Space (SQFT)</th>\n",
       "      <td>0.763001</td>\n",
       "      <td>1.000000</td>\n",
       "    </tr>\n",
       "  </tbody>\n",
       "</table>\n",
       "</div>"
      ],
      "text/plain": [
       "                        Price  Living Space (SQFT)\n",
       "Price                1.000000             0.763001\n",
       "Living Space (SQFT)  0.763001             1.000000"
      ]
     },
     "execution_count": 92,
     "metadata": {},
     "output_type": "execute_result"
    }
   ],
   "source": [
    "#12.c\n",
    "\n",
    "plt.scatter(housing['Price'], housing['Living Space (SQFT)'], alpha = 0.15)\n",
    "plt.show()\n",
    "\n",
    "housing[['Price','Living Space (SQFT)']].corr()"
   ]
  },
  {
   "cell_type": "code",
   "execution_count": 4,
   "id": "f9b41bb5",
   "metadata": {},
   "outputs": [
    {
     "data": {
      "text/html": [
       "<div>\n",
       "<style scoped>\n",
       "    .dataframe tbody tr th:only-of-type {\n",
       "        vertical-align: middle;\n",
       "    }\n",
       "\n",
       "    .dataframe tbody tr th {\n",
       "        vertical-align: top;\n",
       "    }\n",
       "\n",
       "    .dataframe thead th {\n",
       "        text-align: right;\n",
       "    }\n",
       "</style>\n",
       "<table border=\"1\" class=\"dataframe\">\n",
       "  <thead>\n",
       "    <tr style=\"text-align: right;\">\n",
       "      <th></th>\n",
       "      <th>Number of Floors</th>\n",
       "      <th>Price</th>\n",
       "    </tr>\n",
       "  </thead>\n",
       "  <tbody>\n",
       "    <tr>\n",
       "      <th>Number of Floors</th>\n",
       "      <td>1.000000</td>\n",
       "      <td>0.097668</td>\n",
       "    </tr>\n",
       "    <tr>\n",
       "      <th>Price</th>\n",
       "      <td>0.097668</td>\n",
       "      <td>1.000000</td>\n",
       "    </tr>\n",
       "  </tbody>\n",
       "</table>\n",
       "</div>"
      ],
      "text/plain": [
       "                  Number of Floors     Price\n",
       "Number of Floors          1.000000  0.097668\n",
       "Price                     0.097668  1.000000"
      ]
     },
     "execution_count": 4,
     "metadata": {},
     "output_type": "execute_result"
    },
    {
     "data": {
      "image/png": "[encoded data removed]",
      "text/plain": [
       "<Figure size 432x288 with 1 Axes>"
      ]
     },
     "metadata": {
      "needs_background": "light"
     },
     "output_type": "display_data"
    }
   ],
   "source": [
    "#13.d.\n",
    "\n",
    "housing[['Number of Floors','Price']].groupby('Number of Floors').agg('mean')\n",
    "\n",
    "plt.scatter(housing['Number of Floors'], housing.Price, alpha = 0.1)\n",
    "\n",
    "\n",
    "housing[['Number of Floors', 'Price']].corr()"
   ]
  },
  {
   "cell_type": "code",
   "execution_count": 103,
   "id": "3c260b11",
   "metadata": {},
   "outputs": [
    {
     "name": "stdout",
     "output_type": "stream",
     "text": [
      "waterfront yes\n",
      "No     0.709804\n",
      "Yes    0.290196\n",
      "Name: Basement, dtype: float64\n",
      "waterfront no\n",
      "No     0.626459\n",
      "Yes    0.373541\n",
      "Name: Basement, dtype: float64\n"
     ]
    }
   ],
   "source": [
    "#14.a\n",
    "\n",
    "#numerical: scatterplot and corr efficient\n",
    "#for categorical data: \n",
    "\n",
    "#plt.scatter(housing.Waterfront, housing.Basement, alpha = 0.01)\n",
    "#plt.show()\n",
    "\n",
    "print('waterfront yes')\n",
    "print(housing.Basement[housing.Waterfront == 'Yes'].value_counts(normalize = True))\n",
    "print('waterfront no')\n",
    "print(housing.Basement[housing.Waterfront == 'No'].value_counts(normalize = True))"
   ]
  },
  {
   "cell_type": "code",
   "execution_count": 106,
   "id": "58b80fca",
   "metadata": {},
   "outputs": [
    {
     "data": {
      "text/html": [
       "<div>\n",
       "<style scoped>\n",
       "    .dataframe tbody tr th:only-of-type {\n",
       "        vertical-align: middle;\n",
       "    }\n",
       "\n",
       "    .dataframe tbody tr th {\n",
       "        vertical-align: top;\n",
       "    }\n",
       "\n",
       "    .dataframe thead th {\n",
       "        text-align: right;\n",
       "    }\n",
       "</style>\n",
       "<table border=\"1\" class=\"dataframe\">\n",
       "  <thead>\n",
       "    <tr style=\"text-align: right;\">\n",
       "      <th></th>\n",
       "      <th>Year Built</th>\n",
       "      <th>Number of Floors</th>\n",
       "    </tr>\n",
       "  </thead>\n",
       "  <tbody>\n",
       "    <tr>\n",
       "      <th>Year Built</th>\n",
       "      <td>1.0000</td>\n",
       "      <td>0.1202</td>\n",
       "    </tr>\n",
       "    <tr>\n",
       "      <th>Number of Floors</th>\n",
       "      <td>0.1202</td>\n",
       "      <td>1.0000</td>\n",
       "    </tr>\n",
       "  </tbody>\n",
       "</table>\n",
       "</div>"
      ],
      "text/plain": [
       "                  Year Built  Number of Floors\n",
       "Year Built            1.0000            0.1202\n",
       "Number of Floors      0.1202            1.0000"
      ]
     },
     "execution_count": 106,
     "metadata": {},
     "output_type": "execute_result"
    }
   ],
   "source": [
    "#15.c\n",
    "\n",
    "housing[['Year Built', 'Number of Floors']].corr()\n"
   ]
  },
  {
   "cell_type": "code",
   "execution_count": 107,
   "id": "90d36e68",
   "metadata": {},
   "outputs": [
    {
     "data": {
      "text/plain": [
       "5.0"
      ]
     },
     "execution_count": 107,
     "metadata": {},
     "output_type": "execute_result"
    }
   ],
   "source": [
    "#16.c\n",
    "\n",
    "10/2"
   ]
  },
  {
   "cell_type": "code",
   "execution_count": 108,
   "id": "5f8ebb04",
   "metadata": {},
   "outputs": [],
   "source": [
    "#17.b"
   ]
  },
  {
   "cell_type": "code",
   "execution_count": 112,
   "id": "d74a2d31",
   "metadata": {},
   "outputs": [
    {
     "name": "stdout",
     "output_type": "stream",
     "text": [
      "x is equal to 5\n"
     ]
    }
   ],
   "source": [
    "#18. a & d\n",
    "\n",
    "x = 5\n",
    "if ((x ** 2 == 25) & (10 / x == 2)):\n",
    "      print('x is equal to 5')"
   ]
  },
  {
   "cell_type": "code",
   "execution_count": 113,
   "id": "b45947d3",
   "metadata": {},
   "outputs": [],
   "source": [
    "#END"
   ]
  }
 ],
 "metadata": {
  "kernelspec": {
   "display_name": "Python 3 (ipykernel)",
   "language": "python",
   "name": "python3"
  },
  "language_info": {
   "codemirror_mode": {
    "name": "ipython",
    "version": 3
   },
   "file_extension": ".py",
   "mimetype": "text/x-python",
   "name": "python",
   "nbconvert_exporter": "python",
   "pygments_lexer": "ipython3",
   "version": "3.9.12"
  }
 },
 "nbformat": 4,
 "nbformat_minor": 5
}
