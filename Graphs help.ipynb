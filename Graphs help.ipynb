{
 "cells": [
  {
   "cell_type": "code",
   "execution_count": 1,
   "id": "31c89ce1",
   "metadata": {},
   "outputs": [],
   "source": [
    "import pandas as pd\n",
    "import matplotlib.pyplot as plt"
   ]
  },
  {
   "cell_type": "code",
   "execution_count": 2,
   "id": "b2b25c22",
   "metadata": {},
   "outputs": [],
   "source": [
    "path = '/Users/nicolelubaczewska/Downloads/ba222Project_CleanData_campusSpending_11.26.2022.csv'\n",
    "\n",
    "cleanData = pd.read_csv(path)"
   ]
  },
  {
   "cell_type": "code",
   "execution_count": 24,
   "id": "4e270bce",
   "metadata": {},
   "outputs": [
    {
     "data": {
      "text/plain": [
       "0          27\n",
       ">500       26\n",
       "101-200     5\n",
       "201-300     5\n",
       "301-400     4\n",
       "1-50        3\n",
       "401-500     3\n",
       "51-100      2\n",
       "Name: Allowance_month, dtype: int64"
      ]
     },
     "execution_count": 24,
     "metadata": {},
     "output_type": "execute_result"
    }
   ],
   "source": [
    "cleanData.Allowance_month.value_counts()\n"
   ]
  },
  {
   "cell_type": "code",
   "execution_count": 22,
   "id": "55eca621",
   "metadata": {},
   "outputs": [],
   "source": [
    "allowance = ['0', '1-50', '51-100', '101-200', '201-300', '301-400', '401-500', '>500']\n",
    "frequency = [27,3,2,5,5,4,3,26]"
   ]
  },
  {
   "cell_type": "code",
   "execution_count": 23,
   "id": "a10acbca",
   "metadata": {},
   "outputs": [
    {
     "data": {
      "text/plain": [
       "<function matplotlib.pyplot.show(close=None, block=None)>"
      ]
     },
     "execution_count": 23,
     "metadata": {},
     "output_type": "execute_result"
    },
    {
     "data": {
      "image/png": "[encoded data removed]",
      "text/plain": [
       "<Figure size 432x288 with 1 Axes>"
      ]
     },
     "metadata": {
      "needs_background": "light"
     },
     "output_type": "display_data"
    }
   ],
   "source": [
    "plt.barh(allowance, frequency)\n",
    "plt.show"
   ]
  },
  {
   "cell_type": "code",
   "execution_count": null,
   "id": "56ae00d7",
   "metadata": {},
   "outputs": [],
   "source": []
  }
 ],
 "metadata": {
  "kernelspec": {
   "display_name": "Python 3 (ipykernel)",
   "language": "python",
   "name": "python3"
  },
  "language_info": {
   "codemirror_mode": {
    "name": "ipython",
    "version": 3
   },
   "file_extension": ".py",
   "mimetype": "text/x-python",
   "name": "python",
   "nbconvert_exporter": "python",
   "pygments_lexer": "ipython3",
   "version": "3.9.12"
  }
 },
 "nbformat": 4,
 "nbformat_minor": 5
}
