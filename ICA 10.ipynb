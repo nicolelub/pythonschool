{
 "cells": [
  {
   "cell_type": "code",
   "execution_count": 1,
   "id": "912a0520",
   "metadata": {},
   "outputs": [
    {
     "data": {
      "text/html": [
       "<div>\n",
       "<style scoped>\n",
       "    .dataframe tbody tr th:only-of-type {\n",
       "        vertical-align: middle;\n",
       "    }\n",
       "\n",
       "    .dataframe tbody tr th {\n",
       "        vertical-align: top;\n",
       "    }\n",
       "\n",
       "    .dataframe thead th {\n",
       "        text-align: right;\n",
       "    }\n",
       "</style>\n",
       "<table border=\"1\" class=\"dataframe\">\n",
       "  <thead>\n",
       "    <tr style=\"text-align: right;\">\n",
       "      <th></th>\n",
       "      <th>manufacturer_name</th>\n",
       "      <th>transmission</th>\n",
       "      <th>color</th>\n",
       "      <th>odometer_value</th>\n",
       "      <th>year_produced</th>\n",
       "      <th>engine_type</th>\n",
       "      <th>engine_capacity</th>\n",
       "      <th>body_type</th>\n",
       "      <th>drivetrain</th>\n",
       "      <th>price_usd</th>\n",
       "    </tr>\n",
       "  </thead>\n",
       "  <tbody>\n",
       "    <tr>\n",
       "      <th>0</th>\n",
       "      <td>Others</td>\n",
       "      <td>automatic</td>\n",
       "      <td>silver</td>\n",
       "      <td>190000</td>\n",
       "      <td>2010</td>\n",
       "      <td>gasoline</td>\n",
       "      <td>2.5</td>\n",
       "      <td>universal</td>\n",
       "      <td>all</td>\n",
       "      <td>10900.00</td>\n",
       "    </tr>\n",
       "    <tr>\n",
       "      <th>1</th>\n",
       "      <td>Others</td>\n",
       "      <td>automatic</td>\n",
       "      <td>blue</td>\n",
       "      <td>290000</td>\n",
       "      <td>2002</td>\n",
       "      <td>gasoline</td>\n",
       "      <td>3.0</td>\n",
       "      <td>universal</td>\n",
       "      <td>all</td>\n",
       "      <td>5000.00</td>\n",
       "    </tr>\n",
       "    <tr>\n",
       "      <th>2</th>\n",
       "      <td>Others</td>\n",
       "      <td>automatic</td>\n",
       "      <td>red</td>\n",
       "      <td>402000</td>\n",
       "      <td>2001</td>\n",
       "      <td>gasoline</td>\n",
       "      <td>2.5</td>\n",
       "      <td>suv</td>\n",
       "      <td>all</td>\n",
       "      <td>2800.00</td>\n",
       "    </tr>\n",
       "    <tr>\n",
       "      <th>3</th>\n",
       "      <td>Others</td>\n",
       "      <td>automatic</td>\n",
       "      <td>black</td>\n",
       "      <td>280000</td>\n",
       "      <td>2001</td>\n",
       "      <td>gasoline</td>\n",
       "      <td>2.5</td>\n",
       "      <td>universal</td>\n",
       "      <td>all</td>\n",
       "      <td>2134.11</td>\n",
       "    </tr>\n",
       "    <tr>\n",
       "      <th>4</th>\n",
       "      <td>Others</td>\n",
       "      <td>automatic</td>\n",
       "      <td>silver</td>\n",
       "      <td>132449</td>\n",
       "      <td>2011</td>\n",
       "      <td>gasoline</td>\n",
       "      <td>2.5</td>\n",
       "      <td>universal</td>\n",
       "      <td>all</td>\n",
       "      <td>14700.00</td>\n",
       "    </tr>\n",
       "  </tbody>\n",
       "</table>\n",
       "</div>"
      ],
      "text/plain": [
       "  manufacturer_name transmission   color  odometer_value  year_produced  \\\n",
       "0            Others    automatic  silver          190000           2010   \n",
       "1            Others    automatic    blue          290000           2002   \n",
       "2            Others    automatic     red          402000           2001   \n",
       "3            Others    automatic   black          280000           2001   \n",
       "4            Others    automatic  silver          132449           2011   \n",
       "\n",
       "  engine_type  engine_capacity  body_type drivetrain  price_usd  \n",
       "0    gasoline              2.5  universal        all   10900.00  \n",
       "1    gasoline              3.0  universal        all    5000.00  \n",
       "2    gasoline              2.5        suv        all    2800.00  \n",
       "3    gasoline              2.5  universal        all    2134.11  \n",
       "4    gasoline              2.5  universal        all   14700.00  "
      ]
     },
     "execution_count": 1,
     "metadata": {},
     "output_type": "execute_result"
    }
   ],
   "source": [
    "#ICA 10\n",
    "\n",
    "import pandas as pd\n",
    "import statsmodels.formula.api as smf\n",
    "import matplotlib.pyplot as plt\n",
    "import seaborn as sb\n",
    "\n",
    "# DATA = brookline.csv\n",
    "path = '/Users/nicolelubaczewska/Downloads/usedCars (1).csv'\n",
    "\n",
    "uc = pd.read_csv(path)\n",
    "\n",
    "uc.head()"
   ]
  },
  {
   "cell_type": "code",
   "execution_count": 3,
   "id": "e14bdb5e",
   "metadata": {},
   "outputs": [
    {
     "data": {
      "text/plain": [
       "Intercept       -1.151630e+06\n",
       "year_produced    5.782008e+02\n",
       "dtype: float64"
      ]
     },
     "execution_count": 3,
     "metadata": {},
     "output_type": "execute_result"
    }
   ],
   "source": [
    "#1d.\n",
    "\n",
    "reg1 = smf.ols('price_usd ~ year_produced', data = uc).fit()\n",
    "reg1.params"
   ]
  },
  {
   "cell_type": "code",
   "execution_count": 7,
   "id": "4a732819",
   "metadata": {},
   "outputs": [
    {
     "data": {
      "text/plain": [
       "Intercept                     10573.716089\n",
       "transmission[T.mechanical]    -5521.726353\n",
       "dtype: float64"
      ]
     },
     "execution_count": 7,
     "metadata": {},
     "output_type": "execute_result"
    }
   ],
   "source": [
    "#2.a\n",
    "\n",
    "reg2 = smf.ols('price_usd ~ transmission', data = uc).fit()\n",
    "reg2.params\n"
   ]
  },
  {
   "cell_type": "code",
   "execution_count": 15,
   "id": "13b61a5d",
   "metadata": {},
   "outputs": [
    {
     "data": {
      "text/plain": [
       "Intercept         12691.357952\n",
       "odometer_value       -0.022505\n",
       "dtype: float64"
      ]
     },
     "execution_count": 15,
     "metadata": {},
     "output_type": "execute_result"
    }
   ],
   "source": [
    "#3c.\n",
    "\n",
    "reg3 = smf.ols('price_usd ~ odometer_value', data = uc).fit()\n",
    "reg3.params"
   ]
  },
  {
   "cell_type": "code",
   "execution_count": 16,
   "id": "16e4319e",
   "metadata": {},
   "outputs": [
    {
     "name": "stdout",
     "output_type": "stream",
     "text": [
      "0.4666367180966854\n",
      "0.19965388025483333\n",
      "0.19548292930081013\n"
     ]
    }
   ],
   "source": [
    "#4a. \n",
    "\n",
    "print(reg1.rsquared)\n",
    "print(reg2.rsquared)\n",
    "print(reg3.rsquared)"
   ]
  },
  {
   "cell_type": "code",
   "execution_count": 18,
   "id": "b223a2c6",
   "metadata": {},
   "outputs": [
    {
     "data": {
      "text/plain": [
       "Intercept        -1.087816e+06\n",
       "odometer_value   -3.224448e-03\n",
       "year_produced     5.467588e+02\n",
       "dtype: float64"
      ]
     },
     "execution_count": 18,
     "metadata": {},
     "output_type": "execute_result"
    }
   ],
   "source": [
    "#5.c\n",
    "\n",
    "reg5 = smf.ols('price_usd ~ odometer_value + year_produced', data = uc).fit()\n",
    "reg5.params\n"
   ]
  },
  {
   "cell_type": "code",
   "execution_count": 21,
   "id": "2d80b690",
   "metadata": {},
   "outputs": [
    {
     "data": {
      "text/html": [
       "<table class=\"simpletable\">\n",
       "<caption>OLS Regression Results</caption>\n",
       "<tr>\n",
       "  <th>Dep. Variable:</th>        <td>price_usd</td>    <th>  R-squared:         </th>  <td>   0.469</td>  \n",
       "</tr>\n",
       "<tr>\n",
       "  <th>Model:</th>                   <td>OLS</td>       <th>  Adj. R-squared:    </th>  <td>   0.469</td>  \n",
       "</tr>\n",
       "<tr>\n",
       "  <th>Method:</th>             <td>Least Squares</td>  <th>  F-statistic:       </th>  <td>1.460e+04</td> \n",
       "</tr>\n",
       "<tr>\n",
       "  <th>Date:</th>             <td>Sat, 19 Nov 2022</td> <th>  Prob (F-statistic):</th>   <td>  0.00</td>   \n",
       "</tr>\n",
       "<tr>\n",
       "  <th>Time:</th>                 <td>16:41:11</td>     <th>  Log-Likelihood:    </th> <td>-3.2352e+05</td>\n",
       "</tr>\n",
       "<tr>\n",
       "  <th>No. Observations:</th>      <td> 33030</td>      <th>  AIC:               </th>  <td>6.470e+05</td> \n",
       "</tr>\n",
       "<tr>\n",
       "  <th>Df Residuals:</th>          <td> 33027</td>      <th>  BIC:               </th>  <td>6.471e+05</td> \n",
       "</tr>\n",
       "<tr>\n",
       "  <th>Df Model:</th>              <td>     2</td>      <th>                     </th>      <td> </td>     \n",
       "</tr>\n",
       "<tr>\n",
       "  <th>Covariance Type:</th>      <td>nonrobust</td>    <th>                     </th>      <td> </td>     \n",
       "</tr>\n",
       "</table>\n",
       "<table class=\"simpletable\">\n",
       "<tr>\n",
       "         <td></td>           <th>coef</th>     <th>std err</th>      <th>t</th>      <th>P>|t|</th>  <th>[0.025</th>    <th>0.975]</th>  \n",
       "</tr>\n",
       "<tr>\n",
       "  <th>Intercept</th>      <td>-1.088e+06</td> <td> 8431.382</td> <td> -129.020</td> <td> 0.000</td> <td> -1.1e+06</td> <td>-1.07e+06</td>\n",
       "</tr>\n",
       "<tr>\n",
       "  <th>odometer_value</th> <td>   -0.0032</td> <td>    0.000</td> <td>  -12.801</td> <td> 0.000</td> <td>   -0.004</td> <td>   -0.003</td>\n",
       "</tr>\n",
       "<tr>\n",
       "  <th>year_produced</th>  <td>  546.7588</td> <td>    4.189</td> <td>  130.528</td> <td> 0.000</td> <td>  538.549</td> <td>  554.969</td>\n",
       "</tr>\n",
       "</table>\n",
       "<table class=\"simpletable\">\n",
       "<tr>\n",
       "  <th>Omnibus:</th>       <td>19727.258</td> <th>  Durbin-Watson:     </th>  <td>   1.354</td> \n",
       "</tr>\n",
       "<tr>\n",
       "  <th>Prob(Omnibus):</th>  <td> 0.000</td>   <th>  Jarque-Bera (JB):  </th> <td>263605.356</td>\n",
       "</tr>\n",
       "<tr>\n",
       "  <th>Skew:</th>           <td> 2.653</td>   <th>  Prob(JB):          </th>  <td>    0.00</td> \n",
       "</tr>\n",
       "<tr>\n",
       "  <th>Kurtosis:</th>       <td>15.782</td>   <th>  Cond. No.          </th>  <td>9.72e+07</td> \n",
       "</tr>\n",
       "</table><br/><br/>Notes:<br/>[1] Standard Errors assume that the covariance matrix of the errors is correctly specified.<br/>[2] The condition number is large, 9.72e+07. This might indicate that there are<br/>strong multicollinearity or other numerical problems."
      ],
      "text/plain": [
       "<class 'statsmodels.iolib.summary.Summary'>\n",
       "\"\"\"\n",
       "                            OLS Regression Results                            \n",
       "==============================================================================\n",
       "Dep. Variable:              price_usd   R-squared:                       0.469\n",
       "Model:                            OLS   Adj. R-squared:                  0.469\n",
       "Method:                 Least Squares   F-statistic:                 1.460e+04\n",
       "Date:                Sat, 19 Nov 2022   Prob (F-statistic):               0.00\n",
       "Time:                        16:41:11   Log-Likelihood:            -3.2352e+05\n",
       "No. Observations:               33030   AIC:                         6.470e+05\n",
       "Df Residuals:                   33027   BIC:                         6.471e+05\n",
       "Df Model:                           2                                         \n",
       "Covariance Type:            nonrobust                                         \n",
       "==================================================================================\n",
       "                     coef    std err          t      P>|t|      [0.025      0.975]\n",
       "----------------------------------------------------------------------------------\n",
       "Intercept      -1.088e+06   8431.382   -129.020      0.000    -1.1e+06   -1.07e+06\n",
       "odometer_value    -0.0032      0.000    -12.801      0.000      -0.004      -0.003\n",
       "year_produced    546.7588      4.189    130.528      0.000     538.549     554.969\n",
       "==============================================================================\n",
       "Omnibus:                    19727.258   Durbin-Watson:                   1.354\n",
       "Prob(Omnibus):                  0.000   Jarque-Bera (JB):           263605.356\n",
       "Skew:                           2.653   Prob(JB):                         0.00\n",
       "Kurtosis:                      15.782   Cond. No.                     9.72e+07\n",
       "==============================================================================\n",
       "\n",
       "Notes:\n",
       "[1] Standard Errors assume that the covariance matrix of the errors is correctly specified.\n",
       "[2] The condition number is large, 9.72e+07. This might indicate that there are\n",
       "strong multicollinearity or other numerical problems.\n",
       "\"\"\""
      ]
     },
     "execution_count": 21,
     "metadata": {},
     "output_type": "execute_result"
    }
   ],
   "source": [
    "#6.a,b,c\n",
    "\n",
    "reg5.summary()\n",
    "\n",
    "#intercept\n",
    "#odometer\n",
    "#year_produced"
   ]
  },
  {
   "cell_type": "code",
   "execution_count": 36,
   "id": "6c43d937",
   "metadata": {},
   "outputs": [
    {
     "data": {
      "text/plain": [
       "12819.69796999998"
      ]
     },
     "execution_count": 36,
     "metadata": {},
     "output_type": "execute_result"
    }
   ],
   "source": [
    "#7.a.\n",
    "\n",
    "reg7 = smf.ols('price_usd ~ transmission + C(color) + odometer_value + year_produced', data = uc).fit()\n",
    "reg7.params\n",
    "\n",
    "price = 2010*466.209797 + 100000 * -0.002271 -924034.894\n",
    "\n",
    "price"
   ]
  },
  {
   "cell_type": "code",
   "execution_count": 46,
   "id": "f0d6a724",
   "metadata": {},
   "outputs": [
    {
     "data": {
      "text/plain": [
       "0.375507114744172"
      ]
     },
     "execution_count": 46,
     "metadata": {},
     "output_type": "execute_result"
    }
   ],
   "source": [
    "#8.a\n",
    "\n",
    "reg8 = smf.ols('price_usd ~ color', data = uc).fit()\n",
    "(reg8.resid > 0).value_counts()\n",
    "\n",
    "12403/(12403+20627)"
   ]
  },
  {
   "cell_type": "code",
   "execution_count": 51,
   "id": "9848bafa",
   "metadata": {},
   "outputs": [
    {
     "data": {
      "text/plain": [
       "Intercept          14346.165079\n",
       "color[T.blue]      -3580.287160\n",
       "color[T.brown]      1516.133895\n",
       "color[T.green]     -7619.416632\n",
       "color[T.grey]       -538.116938\n",
       "color[T.orange]    -3575.975329\n",
       "color[T.other]     -2501.708770\n",
       "color[T.red]       -2486.413627\n",
       "color[T.silver]    -3975.278016\n",
       "color[T.violet]    -4743.496105\n",
       "color[T.white]      2736.698420\n",
       "color[T.yellow]    -3701.901746\n",
       "dtype: float64"
      ]
     },
     "execution_count": 51,
     "metadata": {},
     "output_type": "execute_result"
    }
   ],
   "source": [
    "#9.d.\n",
    "#white\n",
    "\n",
    "reg9 = smf.ols('price_usd ~ color', data = uc[uc.body_type == 'suv']).fit()\n",
    "reg9.params"
   ]
  },
  {
   "cell_type": "code",
   "execution_count": 68,
   "id": "5a8c0171",
   "metadata": {},
   "outputs": [
    {
     "data": {
      "text/plain": [
       "0.06974690731764965"
      ]
     },
     "execution_count": 68,
     "metadata": {},
     "output_type": "execute_result"
    }
   ],
   "source": [
    "#10.d. \n",
    "\n",
    "uc.corr()['price_usd']\n",
    "\n",
    "reg10 = smf.ols('price_usd ~ manufacturer_name', data = uc).fit()\n",
    "reg10.rsquared"
   ]
  },
  {
   "cell_type": "code",
   "execution_count": 69,
   "id": "a813dd09",
   "metadata": {},
   "outputs": [],
   "source": [
    "#11. b. d.\n"
   ]
  },
  {
   "cell_type": "code",
   "execution_count": 77,
   "id": "8b400b75",
   "metadata": {},
   "outputs": [
    {
     "name": "stdout",
     "output_type": "stream",
     "text": [
      "0.0694651746507966\n",
      "0.28557452922875837\n",
      "0.16803703215167864\n",
      "0.07666440259174645\n",
      "0.22365606399979787\n"
     ]
    }
   ],
   "source": [
    "#12.a,b,c,d\n",
    "\n",
    "reg11 = smf.ols('price_usd ~ manufacturer_name', data = uc).fit()\n",
    "reg12Q = smf.ols('price_usd ~ manufacturer_name + odometer_value', data = uc).fit()\n",
    "reg13Q = smf.ols('price_usd ~ manufacturer_name + color', data = uc).fit()\n",
    "reg14Q = smf.ols('price_usd ~ manufacturer_name + engine_type', data = uc).fit()\n",
    "reg15Q= smf.ols('price_usd ~ manufacturer_name + drivetrain', data = uc).fit()\n",
    "\n",
    "print(reg11.rsquared_adj)\n",
    "print(reg12Q.rsquared_adj)\n",
    "print(reg13Q.rsquared_adj)\n",
    "print(reg14Q.rsquared_adj)\n",
    "print(reg15Q.rsquared_adj)"
   ]
  },
  {
   "cell_type": "code",
   "execution_count": 99,
   "id": "40931eb6",
   "metadata": {},
   "outputs": [],
   "source": [
    "#13. b.\n",
    "\n",
    "uc['age'] = 2019 - uc.year_produced\n",
    "\n",
    "reg13 = smf.ols('price_usd ~ age', data = uc).fit()\n",
    "reg14QQ = smf.ols('price_usd ~ age + odometer_value', data = uc).fit()\n",
    "reg15QQ = smf.ols('price_usd ~ age + odometer_value + engine_capacity', data = uc).fit()\n",
    "\n",
    "#print(reg13.rsquared_adj)\n",
    "#print(reg14QQ.rsquared_adj)\n",
    "#print(reg15QQ.rsquared_adj)\n",
    "\n",
    "#print(reg11.summary())\n",
    "#print(reg12Q.summary())\n",
    "#print(reg13Q.summary())\n",
    "\n",
    "\n",
    "# (1) odometer value is related with price and age, \n",
    "#     any regression with price and age but not odometer_value\n",
    "#     will suffer from OVB. This eliminates option A\n",
    "\n",
    "# (2) engine capacity is related with price, but not with\n",
    "#     age. This variable will not cause OVB and should not\n",
    "#     be part of the model. This eliminates option C\n",
    "\n",
    "# (3) Option d is eliminated b/c as long as you have \n",
    "#     the correlation matrix you have sufficient information\n",
    "#     to answer this question."
   ]
  },
  {
   "cell_type": "code",
   "execution_count": 100,
   "id": "6778e181",
   "metadata": {},
   "outputs": [
    {
     "data": {
      "text/plain": [
       "<AxesSubplot:xlabel='year_produced', ylabel='price_usd'>"
      ]
     },
     "execution_count": 100,
     "metadata": {},
     "output_type": "execute_result"
    },
    {
     "data": {
      "image/png": "[encoded data removed]",
      "text/plain": [
       "<Figure size 432x288 with 1 Axes>"
      ]
     },
     "metadata": {
      "needs_background": "light"
     },
     "output_type": "display_data"
    }
   ],
   "source": [
    "#14 c. d.\n",
    "\n",
    "uc.corr()[['price_usd', 'year_produced']]\n",
    "\n",
    "reg14 = smf.ols('price_usd ~ year_produced', data = uc).fit()\n",
    "\n",
    "sb.regplot(y = uc.price_usd , x = uc.year_produced, line_kws = {'color': 'red'})\n",
    "\n",
    "# Explanation:\n",
    "\n",
    "# (1) Option A is not true b/c year_produced is the variable\n",
    "#     with greatest individual predictive power. You can check\n",
    "#     this using a correlation matrix (see corr matrix above)\n",
    "\n",
    "# (2) Option B is a true statement, but we only need to add variables\n",
    "#     that correct for OVB when designing models for policy making.\n",
    "#     The description of the question makes it clear that the\n",
    "#     objective is prediction. In which case the criteria for \n",
    "#     adding variables is the change in adjusted R2."
   ]
  },
  {
   "cell_type": "code",
   "execution_count": 101,
   "id": "8dbad53e",
   "metadata": {},
   "outputs": [],
   "source": [
    "#15d. "
   ]
  }
 ],
 "metadata": {
  "kernelspec": {
   "display_name": "Python 3 (ipykernel)",
   "language": "python",
   "name": "python3"
  },
  "language_info": {
   "codemirror_mode": {
    "name": "ipython",
    "version": 3
   },
   "file_extension": ".py",
   "mimetype": "text/x-python",
   "name": "python",
   "nbconvert_exporter": "python",
   "pygments_lexer": "ipython3",
   "version": "3.9.12"
  }
 },
 "nbformat": 4,
 "nbformat_minor": 5
}
