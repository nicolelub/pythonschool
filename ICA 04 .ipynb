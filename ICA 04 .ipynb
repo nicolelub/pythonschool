{
 "cells": [
  {
   "cell_type": "code",
   "execution_count": 1,
   "id": "4bb769ed",
   "metadata": {},
   "outputs": [],
   "source": [
    "#Part 01\n",
    "\n",
    "# 1. YES 2. YES 3. YES 4. YES 5. YES \n",
    "\n",
    "# 6. Variable is for example x = 10, save value in the computer\n",
    "\n",
    "# 7. print() is used to show a message\n",
    "\n",
    "# 8. = is for defining or saving, == is for returning a boolean to check if sth is eqaul to anothe thing\n"
   ]
  },
  {
   "cell_type": "code",
   "execution_count": 4,
   "id": "9bbe8932",
   "metadata": {},
   "outputs": [
    {
     "name": "stdout",
     "output_type": "stream",
     "text": [
      "Hello Jupiter!\n"
     ]
    }
   ],
   "source": [
    "#Part 02\n",
    "\n",
    "# CELL A1\n",
    "# The cell should print\n",
    "# 'Hello \\planet\\!'\n",
    "# Where planet is the name of a planet\n",
    "\n",
    "planet = 'Jupiter'\n",
    "\n",
    "print('Hello' + ' ' + planet + '!')\n"
   ]
  },
  {
   "cell_type": "code",
   "execution_count": 6,
   "id": "43479b32",
   "metadata": {},
   "outputs": [
    {
     "name": "stdout",
     "output_type": "stream",
     "text": [
      "oh-oh-oh-oh-oh, oh-oh-oh-oh, oh-oh-oh\n"
     ]
    }
   ],
   "source": [
    "# CELL A2\n",
    "# The song Bad Romance by Lady Gaga starts with\n",
    "# the following phrase:\n",
    "# oh-oh-oh-oh-oh, oh-oh-oh-oh, oh-oh-oh\n",
    "# Caught in a bad romance\n",
    "# oh-oh-oh-oh-oh, oh-oh-oh-oh, oh-oh-oh\n",
    "# Caught in a bad romance\n",
    "\n",
    "\n",
    "# The following line should print the first 'verse'\n",
    "# 'oh-oh-oh-oh-oh, oh-oh-oh-oh, oh-oh-oh'\n",
    "\n",
    "print('oh-' * 4 + 'oh,', 'oh-' * 3 + 'oh,', 'oh-' * 2 + 'oh')"
   ]
  },
  {
   "cell_type": "code",
   "execution_count": 7,
   "id": "22c75ac3",
   "metadata": {},
   "outputs": [
    {
     "name": "stdout",
     "output_type": "stream",
     "text": [
      "Hi, my name is name Sandra and I am 28 years old\n"
     ]
    }
   ],
   "source": [
    "# CELL A3\n",
    "# The cell should print\n",
    "# 'Hi, my name is \\name\\, and I am \\age\\ years old'\n",
    "# replacing \\name\\ and \\age\\ with\n",
    "# variables name and age respectively\n",
    "\n",
    "name = 'Sandra'\n",
    "age = 28\n",
    "\n",
    "print('Hi, my name is name', name , 'and I am', age, 'years old')\n",
    " "
   ]
  },
  {
   "cell_type": "code",
   "execution_count": 51,
   "id": "314a5cff",
   "metadata": {},
   "outputs": [
    {
     "name": "stdout",
     "output_type": "stream",
     "text": [
      "we built this city on rock and roll\n",
      "a year has passed since I wrote my note\n",
      "Sweet dreams are made of this\n",
      "Here we are now, ...\n"
     ]
    }
   ],
   "source": [
    " # CELL A4\n",
    "# Fix the lyrics! ... and the code\n",
    "# The code should print four lines\n",
    "# each with the correct lyrics to\n",
    "# a song\n",
    "\n",
    "# Jefferson Starship - We Built This City\n",
    "\n",
    "lyric1_start = 'we built this city'\n",
    "lyric1_end = 'on rock and roll'\n",
    "\n",
    "print(lyric1_start, lyric1_end)\n",
    "\n",
    "# The Police - Message in a Bottle\n",
    "\n",
    "lyric2_start = 'a year has passed since'\n",
    "lyric2_end = 'I wrote my note'\n",
    "\n",
    "print(lyric2_start,lyric2_end)\n",
    "\n",
    "# Eurythmics - Sweet Dreams\n",
    "\n",
    "lyric3_start = 'Sweet dreams'\n",
    "lyric3_end = 'are made of this'\n",
    "\n",
    "print (lyric3_start, lyric3_end)\n",
    "\n",
    "# Nirvana - Smells Like Theen Spirits\n",
    "lyric4_start = 'Here we are now,'\n",
    "lyric4_end = '...'\n",
    "\n",
    "print (lyric4_start, lyric4_end)"
   ]
  },
  {
   "cell_type": "code",
   "execution_count": 14,
   "id": "d5de91c9",
   "metadata": {},
   "outputs": [
    {
     "name": "stdout",
     "output_type": "stream",
     "text": [
      "11\n",
      "-1\n",
      "30\n",
      "0.8333333333333334\n",
      "15625\n"
     ]
    }
   ],
   "source": [
    "# CELL B1\n",
    "# Write a cell that takes two integers (a) and (b)\n",
    "# Compute:\n",
    "#  The sum of a and b\n",
    "#  The difference between a and b\n",
    "#  The product of a and b\n",
    "#  The ratio of a over b\n",
    "#  a to the power of b\n",
    "\n",
    "\n",
    "a = 5\n",
    "b = 6\n",
    "\n",
    "print (a+b)\n",
    "print (a-b)\n",
    "print (a*b)\n",
    "print (a/b)\n",
    "print (a**b)\n"
   ]
  },
  {
   "cell_type": "code",
   "execution_count": 16,
   "id": "b29b380e",
   "metadata": {},
   "outputs": [
    {
     "name": "stdout",
     "output_type": "stream",
     "text": [
      "The volume is equal to 300\n"
     ]
    }
   ],
   "source": [
    "# CELL B2\n",
    "# The formula of a rectangular prism is equal to # V =w h l\n",
    "# Given w, h and l, this cell should compute the\n",
    "# volume\n",
    "\n",
    "w = 10\n",
    "h = 5\n",
    "l = 6\n",
    "\n",
    "V = w*h*l\n",
    "print('The volume is equal to', V)\n",
    "   "
   ]
  },
  {
   "cell_type": "code",
   "execution_count": 18,
   "id": "917677e4",
   "metadata": {},
   "outputs": [
    {
     "data": {
      "text/plain": [
       "66.66666666666666"
      ]
     },
     "execution_count": 18,
     "metadata": {},
     "output_type": "execute_result"
    }
   ],
   "source": [
    "# CELL B3\n",
    "# The following cell should take an integer\n",
    "# value x that is between 0 to 20\n",
    "# Then a value called x_max that is also between 0 and 20,\n",
    "# but greater than x\n",
    "# Then a value called x_min that is also between 0 and 20,\n",
    "# but less than x\n",
    "# Using this number the cell should show the result\n",
    "# of the following calculation\n",
    "# ((x - x_min) / (x_max - x_min)) * 100\n",
    "\n",
    "x = 10\n",
    "x_min = 0\n",
    "x_max = 15\n",
    "\n",
    "((x - x_min) / (x_max - x_min)) * 100\n",
    "\n",
    "# After correcting all the bugs, do your\n",
    "# best to describe what's the intention\n",
    "# of the code. What is the formula trying\n",
    "# to calculate?\n",
    "\n",
    "#The formula is trying to calculate the percent of ....."
   ]
  },
  {
   "cell_type": "code",
   "execution_count": 26,
   "id": "5716739e",
   "metadata": {},
   "outputs": [
    {
     "name": "stdout",
     "output_type": "stream",
     "text": [
      "The population of rabbits 10 periods in the future is 10240\n"
     ]
    }
   ],
   "source": [
    "# CELL B4\n",
    "# The population of rabbits, if left unchecked\n",
    "# in an ecosystem with unlimited resources will\n",
    "# growth exponentially.\n",
    "# Let R be the initial population of rabbits\n",
    "# The population at a given time (t >= 0)\n",
    "# is given by:\n",
    "# y = R (2 ^ t)\n",
    "# Compute the population of rabbits,\n",
    "# starting with 10 rabbits,\n",
    "# 10 periods in the future\n",
    " \n",
    "\n",
    "R = 10\n",
    "t = 10\n",
    "\n",
    "y = R * (2 ** t)\n",
    "\n",
    "print ('The population of rabbits 10 periods in the future is', y)"
   ]
  },
  {
   "cell_type": "code",
   "execution_count": 30,
   "id": "24ef915c",
   "metadata": {},
   "outputs": [
    {
     "data": {
      "text/plain": [
       "73.4"
      ]
     },
     "execution_count": 30,
     "metadata": {},
     "output_type": "execute_result"
    }
   ],
   "source": [
    "# Cell C1\n",
    "  # Let celsius represent the temperature in\n",
    "  # degree C.\n",
    "  #\n",
    "  # Compute the temperature in degrees F\n",
    "\n",
    "C = 23.0 \n",
    "\n",
    "F = (9/5 * C) + 32\n",
    "\n",
    "F\n"
   ]
  },
  {
   "cell_type": "code",
   "execution_count": 35,
   "id": "a34772eb",
   "metadata": {},
   "outputs": [
    {
     "name": "stdout",
     "output_type": "stream",
     "text": [
      "5.0\n",
      "2.5\n"
     ]
    }
   ],
   "source": [
    "# Cell C2\n",
    "  # Given an integer number x\n",
    "  # calculate the half and quarter of\n",
    "  # x using only integers to perform\n",
    "  # the operation.\n",
    "\n",
    "x = 10\n",
    "x_half = 10/2\n",
    "x_quarter = 10/4\n",
    " \n",
    "print (x_half)\n",
    "print (x_quarter)"
   ]
  },
  {
   "cell_type": "code",
   "execution_count": 46,
   "id": "48eb76c8",
   "metadata": {},
   "outputs": [
    {
     "data": {
      "text/plain": [
       "3.0"
      ]
     },
     "execution_count": 46,
     "metadata": {},
     "output_type": "execute_result"
    }
   ],
   "source": [
    "# Cell C3\n",
    "# To compute a square root of x one could\n",
    "# import the math package and use\n",
    "# math.sqrt(x)\n",
    "#\n",
    "# Is there a way to compute the square\n",
    "# root using the ** operator and a float?\n",
    "\n",
    "x = 9 \n",
    "\n",
    "import math \n",
    "math.sqrt(x)\n"
   ]
  },
  {
   "cell_type": "code",
   "execution_count": 49,
   "id": "6a9c4f3e",
   "metadata": {},
   "outputs": [
    {
     "name": "stdout",
     "output_type": "stream",
     "text": [
      "57.0\n"
     ]
    }
   ],
   "source": [
    "# Cell C4\n",
    "# The surface area of a pyramid is\n",
    "# a complex expression based on\n",
    "# three inputs:\n",
    "# l (base length)\n",
    "# w (base width)\n",
    "# h (Pyramid height)\n",
    "# it looks something like the formula after this cell.\n",
    "# Try to implement it here without using\n",
    "# the math package\n",
    "\n",
    "A = l * w + l * ((w/2) + h) + w * ((l/2) + w)\n",
    "\n",
    "l = 2\n",
    "w = 5\n",
    "h = 6\n",
    "\n",
    "print (A)"
   ]
  },
  {
   "cell_type": "code",
   "execution_count": 59,
   "id": "bd7620ce",
   "metadata": {},
   "outputs": [
    {
     "name": "stdout",
     "output_type": "stream",
     "text": [
      "False\n"
     ]
    }
   ],
   "source": [
    "# Part 3: Booleans, Logical Comparisons and Conditionals\n",
    "\n",
    "\n",
    "# CELL D1\n",
    "  # This cell should check if a string is equal\n",
    "  # to `apple`\n",
    "\n",
    "myString = 'orange'\n",
    "\n",
    "if myString == 'apple':\n",
    "    print (True)\n",
    "else:\n",
    "    print (False)\n",
    "  "
   ]
  },
  {
   "cell_type": "code",
   "execution_count": 60,
   "id": "0d6dea23",
   "metadata": {},
   "outputs": [
    {
     "name": "stdout",
     "output_type": "stream",
     "text": [
      "False\n"
     ]
    }
   ],
   "source": [
    " # CELL D2\n",
    "# This cell should take two numbers and return\n",
    "# true if the numbers are equal to each other\n",
    "\n",
    "x = 25\n",
    "y = 52\n",
    "\n",
    "if x == y:\n",
    "    print (True)\n",
    "else:\n",
    "    print (False)"
   ]
  },
  {
   "cell_type": "code",
   "execution_count": 66,
   "id": "2d8e1f66",
   "metadata": {},
   "outputs": [
    {
     "name": "stdout",
     "output_type": "stream",
     "text": [
      "Yes\n"
     ]
    }
   ],
   "source": [
    "# CELL D3\n",
    "# This cell should check if a number is\n",
    "# less than five, but greater than -3\n",
    "\n",
    "x = 4\n",
    "\n",
    "if  -3 < x < 5:\n",
    "    print ('Yes')\n",
    "\n",
    " "
   ]
  },
  {
   "cell_type": "code",
   "execution_count": 79,
   "id": "b489589a",
   "metadata": {},
   "outputs": [
    {
     "name": "stdout",
     "output_type": "stream",
     "text": [
      "Yes\n"
     ]
    }
   ],
   "source": [
    "# CELL D4\n",
    "# This cell should check if a string\n",
    "# is equal to `apple` or `banana`\n",
    "\n",
    "fruit = 'banana'\n",
    "\n",
    "if (fruit == 'apple') | (fruit == 'banana'):\n",
    "    print ('Yes')\n",
    "\n"
   ]
  },
  {
   "cell_type": "code",
   "execution_count": 83,
   "id": "0c39f540",
   "metadata": {},
   "outputs": [
    {
     "name": "stdout",
     "output_type": "stream",
     "text": [
      "True 19\n"
     ]
    }
   ],
   "source": [
    "# CELL D5\n",
    "# This cell should check if:\n",
    "# The user is greater than 18 years old\n",
    "# and Is previous costumer\n",
    "\n",
    "age = 19\n",
    "\n",
    "previousCostumer = True\n",
    "\n",
    "if (age > 18) & (previousCostumer):\n",
    "    print(previousCostumer, age)"
   ]
  },
  {
   "cell_type": "code",
   "execution_count": 87,
   "id": "4242a0cc",
   "metadata": {},
   "outputs": [
    {
     "name": "stdout",
     "output_type": "stream",
     "text": [
      "Oh no! A spider is in my code!\n"
     ]
    }
   ],
   "source": [
    " # CELL D6\n",
    "# If a string holding the name\n",
    "# of an animal is equal to\n",
    "# 'spider'. Print the message\n",
    "# 'oh no! a spider in my code!'\n",
    "\n",
    "animal = 'spider'\n",
    "\n",
    "if (animal == 'spider'):\n",
    "    print ('Oh no! A spider is in my code!')\n",
    "\n"
   ]
  },
  {
   "cell_type": "code",
   "execution_count": 92,
   "id": "f68a9f24",
   "metadata": {},
   "outputs": [
    {
     "name": "stdout",
     "output_type": "stream",
     "text": [
      "4\n"
     ]
    }
   ],
   "source": [
    "# CELL D7\n",
    "# This cell should take a number\n",
    "# if the number is positive,\n",
    "# print the original number.\n",
    "# if the number is negative\n",
    "# print the number times -1\n",
    "# if the number is zero\n",
    "# print zero\n",
    "\n",
    "x = -4\n",
    "\n",
    "if x >= 0:\n",
    "    print (x)\n",
    "else:\n",
    "    print (x * -1)"
   ]
  },
  {
   "cell_type": "code",
   "execution_count": 96,
   "id": "b8895925",
   "metadata": {},
   "outputs": [
    {
     "name": "stdout",
     "output_type": "stream",
     "text": [
      "haha\n"
     ]
    }
   ],
   "source": [
    "# CELL D8\n",
    "# What should x be equal to\n",
    "# for 'haha!' to be printed?\n",
    "\n",
    "x = 'hahahaha'\n",
    "\n",
    "if (x == 'jaja'):\n",
    "    print (x * 4)\n",
    "elif (x == 'ha'):\n",
    "    print(x * 2 + '!')\n",
    "else:\n",
    "    print('haha')\n",
    " "
   ]
  },
  {
   "cell_type": "code",
   "execution_count": 98,
   "id": "84871dc7",
   "metadata": {},
   "outputs": [
    {
     "name": "stdout",
     "output_type": "stream",
     "text": [
      "Results are inconclusive\n"
     ]
    }
   ],
   "source": [
    "# CELL D9\n",
    "# Write a conditional expression\n",
    "# that takes the rating of a\n",
    "# movie (from 0 to 10)\n",
    "# Prints a message recommending\n",
    "# the movie if it is:\n",
    "# at least 8 out of 10\n",
    "# Prints a message do not recommending\n",
    "# the movie if it is:\n",
    "# at most a 6 out of 10\n",
    "# Prints a message saying that\n",
    "# the results are inconclusive\n",
    "# otherwise\n",
    "\n",
    "x = 7\n",
    "\n",
    "if (8 < x <= 10):\n",
    "    print ('Recommending')\n",
    "elif (0 < x <=6):\n",
    "    print ('Not recommending')\n",
    "else:\n",
    "    print ('Results are inconclusive')"
   ]
  },
  {
   "cell_type": "code",
   "execution_count": 22,
   "id": "5a4e1cfd",
   "metadata": {},
   "outputs": [
    {
     "name": "stdout",
     "output_type": "stream",
     "text": [
      "Plot: A\n",
      "Can grow Coffee? False\n",
      "Can grow Bananas? True\n",
      "\n",
      "Plot: B\n",
      "Can grow Coffee? False\n",
      "Can grow Bananas? True\n",
      "\n",
      "Plot: C\n",
      "Can grow Coffee? False\n",
      "Can grow Bananas? False\n",
      "\n",
      "Plot: D\n",
      "Can grow Coffee? False\n",
      "Can grow Bananas? False\n"
     ]
    }
   ],
   "source": [
    " # CELL D10\n",
    "# A farmer bought 4 rectangular plots of\n",
    "# land.\n",
    "# The lenght, width and elevation of each plot of\n",
    "# land is given below:\n",
    "# A_w = 10\n",
    "# A_l = 20\n",
    "# A_e = 3000\n",
    "# B_w = 15\n",
    "# B_l = 25\n",
    "# A_e = 750\n",
    "# C_w = 30\n",
    "# C_l = 5\n",
    "# A_e = 4700\n",
    "# D_w = 35\n",
    "# D_l = 1\n",
    "# A_e = 100\n",
    "# To grow coffee the elevation needs to be\n",
    "# at least 3500.\n",
    "# Bananas on the other hand generally grow\n",
    "# in the 0-3200 elevation\n",
    "# The total area to grow anything needs to be at\n",
    "# at least 200\n",
    "# In which plot(s) can the farmer grow bananas?\n",
    "# In which plot(s) can the farmer grow coffee?\n",
    "\n",
    "def canGrow(plot, w, l, e):\n",
    "    canGrowCoffee = (e > 3500) & (w * l >= 200)\n",
    "    canGrowBananas = (0 < e < 3200) & (w * l >= 200)\n",
    "    print('Plot:', plot)\n",
    "    print('Can grow Coffee?', canGrowCoffee)\n",
    "    print('Can grow Bananas?', canGrowBananas)\n",
    "    \n",
    "canGrow('A', 10, 20, 3000)\n",
    "print()\n",
    "canGrow('B', 15, 25, 750)\n",
    "print()\n",
    "canGrow('C', 30, 5, 4700)\n",
    "print()\n",
    "canGrow('D', 35, 1, 100)"
   ]
  },
  {
   "cell_type": "code",
   "execution_count": 10,
   "id": "9b44705f",
   "metadata": {},
   "outputs": [
    {
     "name": "stdout",
     "output_type": "stream",
     "text": [
      "lava\n"
     ]
    }
   ],
   "source": [
    "# CELL D11\n",
    "# change the values of A to print\n",
    "# all possible messages\n",
    "# Fix the bugs!\n",
    "\n",
    "x = 'earth'\n",
    "y = 'fire'\n",
    "\n",
    "if (x == 'earth') & (y == 'fire'):\n",
    "    print('lava')\n",
    "elif (x == 'water') | (y == 'fire'):\n",
    "    print('mist')\n",
    "elif (x == 'water') & (y == 'cold'):\n",
    "    print('ice')\n",
    "else:\n",
    "    print('carbon')\n",
    "    "
   ]
  },
  {
   "cell_type": "code",
   "execution_count": 32,
   "id": "e62f2d8e",
   "metadata": {},
   "outputs": [
    {
     "name": "stdout",
     "output_type": "stream",
     "text": [
      "dos\n"
     ]
    }
   ],
   "source": [
    "# Problem 4 \n",
    "# CELL E1\n",
    "  # the function below should print\n",
    "  # 'dos' if the argument is equal\n",
    "  # to 2\n",
    "\n",
    "def Dos(x):\n",
    "    if (x == 2):\n",
    "        print('dos')\n",
    "        \n",
    "Dos(2)"
   ]
  },
  {
   "cell_type": "code",
   "execution_count": 36,
   "id": "17646c6d",
   "metadata": {},
   "outputs": [
    {
     "data": {
      "text/plain": [
       "'downhill'"
      ]
     },
     "execution_count": 36,
     "metadata": {},
     "output_type": "execute_result"
    }
   ],
   "source": [
    "# CELL E2\n",
    "# the function below should take\n",
    "# two string arguments and combine # them into a single string\n",
    "# return the new string\n",
    "\n",
    "def newWord(x, y):\n",
    "    return ( x + y )\n",
    "\n",
    "newWord('down', 'hill')"
   ]
  },
  {
   "cell_type": "code",
   "execution_count": 47,
   "id": "90489048",
   "metadata": {},
   "outputs": [
    {
     "name": "stdout",
     "output_type": "stream",
     "text": [
      "Error!\n"
     ]
    }
   ],
   "source": [
    "# CELL E3\n",
    "# the function below should take\n",
    "# the value of two numbers and\n",
    "# compute the area of a rectangle\n",
    "# if both numbers are strictly\n",
    "# positive. Otherwise, print 'error'\n",
    "\n",
    "def area(w, h):\n",
    "    if((w > 0) & (h > 0)):\n",
    "        return(w * h)\n",
    "    else:\n",
    "        print('Error!')\n",
    "        \n",
    "area(-4,3)"
   ]
  },
  {
   "cell_type": "code",
   "execution_count": 86,
   "id": "2b41bfbf",
   "metadata": {},
   "outputs": [
    {
     "data": {
      "text/plain": [
       "22"
      ]
     },
     "execution_count": 86,
     "metadata": {},
     "output_type": "execute_result"
    }
   ],
   "source": [
    "# CELL E4\n",
    "# the demand of a firm is given by\n",
    "# q_demanded = b + m * price\n",
    "# write a function to compute\n",
    "# the quantity demanded given\n",
    "# b, m and price\n",
    "# the quantity demanded cannot\n",
    "# be negative\n",
    "\n",
    "\n",
    "def demand(b, m, p):\n",
    "    q = b + (m * p)\n",
    "    if q >=0:\n",
    "        return(q)\n",
    "    else:\n",
    "        return(0)\n",
    "    \n",
    "demand(4,3,6)"
   ]
  },
  {
   "cell_type": "code",
   "execution_count": 85,
   "id": "0d8701c0",
   "metadata": {},
   "outputs": [
    {
     "data": {
      "text/plain": [
       "34"
      ]
     },
     "execution_count": 85,
     "metadata": {},
     "output_type": "execute_result"
    }
   ],
   "source": [
    " # CELL E5\n",
    "# write a function to compute\n",
    "# the the total cost\n",
    "# tc = vc + fc\n",
    "# vc = mc * q\n",
    "# where fc, mc and q are given\n",
    "\n",
    "def totalCost(fc, mc, q):\n",
    "    vc = mc * q\n",
    "    return( vc + fc )\n",
    "\n",
    "totalCost (4,5,6)"
   ]
  },
  {
   "cell_type": "code",
   "execution_count": 83,
   "id": "348fb2a4",
   "metadata": {},
   "outputs": [
    {
     "data": {
      "text/plain": [
       "42"
      ]
     },
     "execution_count": 83,
     "metadata": {},
     "output_type": "execute_result"
    }
   ],
   "source": [
    "# CELL E6\n",
    "# write a function to compute\n",
    "# revenues\n",
    "# rev = p * q\n",
    "\n",
    "def revenue(p,q):\n",
    "    return(p * q)\n",
    "\n",
    "revenue(6,7)"
   ]
  },
  {
   "cell_type": "code",
   "execution_count": 87,
   "id": "b8b7cd9b",
   "metadata": {},
   "outputs": [
    {
     "data": {
      "text/plain": [
       "2507.5"
      ]
     },
     "execution_count": 87,
     "metadata": {},
     "output_type": "execute_result"
    }
   ],
   "source": [
    "# CELL E7\n",
    "# Given m, b, p, mc and fc.\n",
    "# write a function to compute\n",
    "# profit = revenue - cost\n",
    "\n",
    "def profit(m, b, fc, mc, p):\n",
    "    q = demand(b, m, p)\n",
    "    tc = totalCost(fc, mc, q)\n",
    "    rev = revenue(p, q)\n",
    "    return(rev - tc)\n",
    "\n",
    "m = 0.5\n",
    "b = 1000\n",
    "fc = 500\n",
    "mc = 2\n",
    "p = 5\n",
    "\n",
    "profit(m, b, fc, mc, p)"
   ]
  },
  {
   "cell_type": "code",
   "execution_count": null,
   "id": "6051b844",
   "metadata": {},
   "outputs": [],
   "source": []
  }
 ],
 "metadata": {
  "kernelspec": {
   "display_name": "Python 3 (ipykernel)",
   "language": "python",
   "name": "python3"
  },
  "language_info": {
   "codemirror_mode": {
    "name": "ipython",
    "version": 3
   },
   "file_extension": ".py",
   "mimetype": "text/x-python",
   "name": "python",
   "nbconvert_exporter": "python",
   "pygments_lexer": "ipython3",
   "version": "3.9.12"
  }
 },
 "nbformat": 4,
 "nbformat_minor": 5
}
