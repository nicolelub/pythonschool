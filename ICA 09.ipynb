{
 "cells": [
  {
   "cell_type": "code",
   "execution_count": 40,
   "id": "d0f391da",
   "metadata": {},
   "outputs": [
    {
     "data": {
      "text/html": [
       "<div>\n",
       "<style scoped>\n",
       "    .dataframe tbody tr th:only-of-type {\n",
       "        vertical-align: middle;\n",
       "    }\n",
       "\n",
       "    .dataframe tbody tr th {\n",
       "        vertical-align: top;\n",
       "    }\n",
       "\n",
       "    .dataframe thead th {\n",
       "        text-align: right;\n",
       "    }\n",
       "</style>\n",
       "<table border=\"1\" class=\"dataframe\">\n",
       "  <thead>\n",
       "    <tr style=\"text-align: right;\">\n",
       "      <th></th>\n",
       "      <th>id</th>\n",
       "      <th>zipCode</th>\n",
       "      <th>yearBuilt</th>\n",
       "      <th>price</th>\n",
       "      <th>livingSpace</th>\n",
       "      <th>lotSpace</th>\n",
       "      <th>bedrooms</th>\n",
       "      <th>bathrooms</th>\n",
       "      <th>noFloors</th>\n",
       "      <th>basement</th>\n",
       "      <th>waterfront</th>\n",
       "    </tr>\n",
       "  </thead>\n",
       "  <tbody>\n",
       "    <tr>\n",
       "      <th>0</th>\n",
       "      <td>439</td>\n",
       "      <td>98115</td>\n",
       "      <td>2000</td>\n",
       "      <td>438000</td>\n",
       "      <td>1270</td>\n",
       "      <td>1372</td>\n",
       "      <td>2</td>\n",
       "      <td>2</td>\n",
       "      <td>3</td>\n",
       "      <td>No</td>\n",
       "      <td>Yes</td>\n",
       "    </tr>\n",
       "    <tr>\n",
       "      <th>1</th>\n",
       "      <td>607</td>\n",
       "      <td>98103</td>\n",
       "      <td>2000</td>\n",
       "      <td>531000</td>\n",
       "      <td>1270</td>\n",
       "      <td>1175</td>\n",
       "      <td>2</td>\n",
       "      <td>3</td>\n",
       "      <td>2</td>\n",
       "      <td>Yes</td>\n",
       "      <td>Yes</td>\n",
       "    </tr>\n",
       "    <tr>\n",
       "      <th>2</th>\n",
       "      <td>2462</td>\n",
       "      <td>98040</td>\n",
       "      <td>2000</td>\n",
       "      <td>1700000</td>\n",
       "      <td>4930</td>\n",
       "      <td>14649</td>\n",
       "      <td>5</td>\n",
       "      <td>5</td>\n",
       "      <td>2</td>\n",
       "      <td>Yes</td>\n",
       "      <td>Yes</td>\n",
       "    </tr>\n",
       "    <tr>\n",
       "      <th>3</th>\n",
       "      <td>2748</td>\n",
       "      <td>98075</td>\n",
       "      <td>2000</td>\n",
       "      <td>726000</td>\n",
       "      <td>2970</td>\n",
       "      <td>10335</td>\n",
       "      <td>5</td>\n",
       "      <td>3</td>\n",
       "      <td>2</td>\n",
       "      <td>No</td>\n",
       "      <td>Yes</td>\n",
       "    </tr>\n",
       "    <tr>\n",
       "      <th>4</th>\n",
       "      <td>2856</td>\n",
       "      <td>98122</td>\n",
       "      <td>2000</td>\n",
       "      <td>582000</td>\n",
       "      <td>1670</td>\n",
       "      <td>1189</td>\n",
       "      <td>4</td>\n",
       "      <td>3</td>\n",
       "      <td>3</td>\n",
       "      <td>Yes</td>\n",
       "      <td>Yes</td>\n",
       "    </tr>\n",
       "  </tbody>\n",
       "</table>\n",
       "</div>"
      ],
      "text/plain": [
       "     id  zipCode  yearBuilt    price  livingSpace  lotSpace  bedrooms  \\\n",
       "0   439    98115       2000   438000         1270      1372         2   \n",
       "1   607    98103       2000   531000         1270      1175         2   \n",
       "2  2462    98040       2000  1700000         4930     14649         5   \n",
       "3  2748    98075       2000   726000         2970     10335         5   \n",
       "4  2856    98122       2000   582000         1670      1189         4   \n",
       "\n",
       "   bathrooms  noFloors basement waterfront  \n",
       "0          2         3       No        Yes  \n",
       "1          3         2      Yes        Yes  \n",
       "2          5         2      Yes        Yes  \n",
       "3          3         2       No        Yes  \n",
       "4          3         3      Yes        Yes  "
      ]
     },
     "execution_count": 40,
     "metadata": {},
     "output_type": "execute_result"
    }
   ],
   "source": [
    "# LOADING PACKAGED + DATA\n",
    "\n",
    "import pandas as pd\n",
    "import statsmodels.formula.api as smf\n",
    "import matplotlib.pyplot as plt\n",
    "import seaborn as sb\n",
    "\n",
    "# DATA = brookline.csv\n",
    "path = '/Users/nicolelubaczewska/Downloads/housingEdited.csv'\n",
    "\n",
    "he = pd.read_csv(path)\n",
    "\n",
    "he.head()"
   ]
  },
  {
   "cell_type": "code",
   "execution_count": 2,
   "id": "4139e9a9",
   "metadata": {},
   "outputs": [
    {
     "data": {
      "text/plain": [
       "415741"
      ]
     },
     "execution_count": 2,
     "metadata": {},
     "output_type": "execute_result"
    }
   ],
   "source": [
    "#1b. \n",
    "\n",
    "reg1 = smf.ols('price ~ bedrooms', data = he).fit()\n",
    "reg1.params\n",
    "\n",
    "#price =\n",
    "162521*2 + 90699"
   ]
  },
  {
   "cell_type": "code",
   "execution_count": 13,
   "id": "23c809ff",
   "metadata": {},
   "outputs": [
    {
     "data": {
      "text/plain": [
       "Intercept          592483.809942\n",
       "basement[T.Yes]    125430.301823\n",
       "dtype: float64"
      ]
     },
     "execution_count": 13,
     "metadata": {},
     "output_type": "execute_result"
    }
   ],
   "source": [
    "#2.a\n",
    "\n",
    "reg2 = smf.ols('price ~ basement', data = he).fit()\n",
    "reg2.params"
   ]
  },
  {
   "cell_type": "code",
   "execution_count": 15,
   "id": "b1c33cbd",
   "metadata": {},
   "outputs": [
    {
     "data": {
      "text/plain": [
       "Intercept            653827.614786\n",
       "waterfront[T.Yes]    -39548.536355\n",
       "dtype: float64"
      ]
     },
     "execution_count": 15,
     "metadata": {},
     "output_type": "execute_result"
    }
   ],
   "source": [
    "#3.d.\n",
    "\n",
    "reg3 = smf.ols('price ~ waterfront', data = he).fit()\n",
    "reg3.params"
   ]
  },
  {
   "cell_type": "code",
   "execution_count": 19,
   "id": "f26113d6",
   "metadata": {},
   "outputs": [
    {
     "name": "stdout",
     "output_type": "stream",
     "text": [
      "0.11182569877663173\n",
      "0.01213093952309563\n",
      "0.0013594042085803837\n"
     ]
    }
   ],
   "source": [
    "#4.a. \n",
    "\n",
    "print(reg1.rsquared) \n",
    "print(reg2.rsquared)\n",
    "print(reg3.rsquared)"
   ]
  },
  {
   "cell_type": "code",
   "execution_count": 29,
   "id": "e0fbf013",
   "metadata": {},
   "outputs": [
    {
     "data": {
      "text/plain": [
       "Intercept     84476.714191\n",
       "lotSpace          0.710279\n",
       "bedrooms     161113.991416\n",
       "dtype: float64"
      ]
     },
     "execution_count": 29,
     "metadata": {},
     "output_type": "execute_result"
    }
   ],
   "source": [
    "#5.a\n",
    "\n",
    "reg5 = smf.ols('price ~ lotSpace + bedrooms', data = he).fit()\n",
    "reg5.params"
   ]
  },
  {
   "cell_type": "code",
   "execution_count": 30,
   "id": "a358536d",
   "metadata": {},
   "outputs": [
    {
     "data": {
      "text/html": [
       "<table class=\"simpletable\">\n",
       "<caption>OLS Regression Results</caption>\n",
       "<tr>\n",
       "  <th>Dep. Variable:</th>          <td>price</td>      <th>  R-squared:         </th> <td>   0.317</td> \n",
       "</tr>\n",
       "<tr>\n",
       "  <th>Model:</th>                   <td>OLS</td>       <th>  Adj. R-squared:    </th> <td>   0.315</td> \n",
       "</tr>\n",
       "<tr>\n",
       "  <th>Method:</th>             <td>Least Squares</td>  <th>  F-statistic:       </th> <td>   118.4</td> \n",
       "</tr>\n",
       "<tr>\n",
       "  <th>Date:</th>             <td>Sat, 19 Nov 2022</td> <th>  Prob (F-statistic):</th> <td>6.05e-43</td> \n",
       "</tr>\n",
       "<tr>\n",
       "  <th>Time:</th>                 <td>11:26:39</td>     <th>  Log-Likelihood:    </th> <td> -7383.3</td> \n",
       "</tr>\n",
       "<tr>\n",
       "  <th>No. Observations:</th>      <td>   512</td>      <th>  AIC:               </th> <td>1.477e+04</td>\n",
       "</tr>\n",
       "<tr>\n",
       "  <th>Df Residuals:</th>          <td>   509</td>      <th>  BIC:               </th> <td>1.479e+04</td>\n",
       "</tr>\n",
       "<tr>\n",
       "  <th>Df Model:</th>              <td>     2</td>      <th>                     </th>     <td> </td>    \n",
       "</tr>\n",
       "<tr>\n",
       "  <th>Covariance Type:</th>      <td>nonrobust</td>    <th>                     </th>     <td> </td>    \n",
       "</tr>\n",
       "</table>\n",
       "<table class=\"simpletable\">\n",
       "<tr>\n",
       "      <td></td>         <th>coef</th>     <th>std err</th>      <th>t</th>      <th>P>|t|</th>  <th>[0.025</th>    <th>0.975]</th>  \n",
       "</tr>\n",
       "<tr>\n",
       "  <th>Intercept</th> <td>-2.939e+05</td> <td> 6.37e+04</td> <td>   -4.613</td> <td> 0.000</td> <td>-4.19e+05</td> <td>-1.69e+05</td>\n",
       "</tr>\n",
       "<tr>\n",
       "  <th>lotSpace</th>  <td>    0.3385</td> <td>    0.299</td> <td>    1.130</td> <td> 0.259</td> <td>   -0.250</td> <td>    0.927</td>\n",
       "</tr>\n",
       "<tr>\n",
       "  <th>bathrooms</th> <td> 3.492e+05</td> <td>  2.3e+04</td> <td>   15.151</td> <td> 0.000</td> <td> 3.04e+05</td> <td> 3.95e+05</td>\n",
       "</tr>\n",
       "</table>\n",
       "<table class=\"simpletable\">\n",
       "<tr>\n",
       "  <th>Omnibus:</th>       <td>445.283</td> <th>  Durbin-Watson:     </th> <td>   1.963</td> \n",
       "</tr>\n",
       "<tr>\n",
       "  <th>Prob(Omnibus):</th> <td> 0.000</td>  <th>  Jarque-Bera (JB):  </th> <td>13356.150</td>\n",
       "</tr>\n",
       "<tr>\n",
       "  <th>Skew:</th>          <td> 3.671</td>  <th>  Prob(JB):          </th> <td>    0.00</td> \n",
       "</tr>\n",
       "<tr>\n",
       "  <th>Kurtosis:</th>      <td>26.920</td>  <th>  Cond. No.          </th> <td>2.32e+05</td> \n",
       "</tr>\n",
       "</table><br/><br/>Notes:<br/>[1] Standard Errors assume that the covariance matrix of the errors is correctly specified.<br/>[2] The condition number is large, 2.32e+05. This might indicate that there are<br/>strong multicollinearity or other numerical problems."
      ],
      "text/plain": [
       "<class 'statsmodels.iolib.summary.Summary'>\n",
       "\"\"\"\n",
       "                            OLS Regression Results                            \n",
       "==============================================================================\n",
       "Dep. Variable:                  price   R-squared:                       0.317\n",
       "Model:                            OLS   Adj. R-squared:                  0.315\n",
       "Method:                 Least Squares   F-statistic:                     118.4\n",
       "Date:                Sat, 19 Nov 2022   Prob (F-statistic):           6.05e-43\n",
       "Time:                        11:26:39   Log-Likelihood:                -7383.3\n",
       "No. Observations:                 512   AIC:                         1.477e+04\n",
       "Df Residuals:                     509   BIC:                         1.479e+04\n",
       "Df Model:                           2                                         \n",
       "Covariance Type:            nonrobust                                         \n",
       "==============================================================================\n",
       "                 coef    std err          t      P>|t|      [0.025      0.975]\n",
       "------------------------------------------------------------------------------\n",
       "Intercept  -2.939e+05   6.37e+04     -4.613      0.000   -4.19e+05   -1.69e+05\n",
       "lotSpace       0.3385      0.299      1.130      0.259      -0.250       0.927\n",
       "bathrooms   3.492e+05    2.3e+04     15.151      0.000    3.04e+05    3.95e+05\n",
       "==============================================================================\n",
       "Omnibus:                      445.283   Durbin-Watson:                   1.963\n",
       "Prob(Omnibus):                  0.000   Jarque-Bera (JB):            13356.150\n",
       "Skew:                           3.671   Prob(JB):                         0.00\n",
       "Kurtosis:                      26.920   Cond. No.                     2.32e+05\n",
       "==============================================================================\n",
       "\n",
       "Notes:\n",
       "[1] Standard Errors assume that the covariance matrix of the errors is correctly specified.\n",
       "[2] The condition number is large, 2.32e+05. This might indicate that there are\n",
       "strong multicollinearity or other numerical problems.\n",
       "\"\"\""
      ]
     },
     "execution_count": 30,
     "metadata": {},
     "output_type": "execute_result"
    }
   ],
   "source": [
    "#6.c.\n",
    "\n",
    "reg6 = smf.ols('price ~ lotSpace + bathrooms', data = he).fit()\n",
    "reg6.summary()"
   ]
  },
  {
   "cell_type": "code",
   "execution_count": 31,
   "id": "263a4067",
   "metadata": {},
   "outputs": [
    {
     "data": {
      "text/plain": [
       "403363.86451000004"
      ]
     },
     "execution_count": 31,
     "metadata": {},
     "output_type": "execute_result"
    }
   ],
   "source": [
    "#7.d. \n",
    "\n",
    "reg7 = smf.ols('price ~ lotSpace + bathrooms + basement', data = he).fit()\n",
    "reg7.params\n",
    "\n",
    "348138.7186 * 2 + 5000 * 0.341445 - 294620.797690\n"
   ]
  },
  {
   "cell_type": "code",
   "execution_count": 33,
   "id": "c49b4628",
   "metadata": {},
   "outputs": [
    {
     "name": "stdout",
     "output_type": "stream",
     "text": [
      "0.11597854935052898\n",
      "0.31480409648265084\n",
      "0.31353912281235186\n"
     ]
    }
   ],
   "source": [
    "#8.b.\n",
    "\n",
    "print(reg5.rsquared_adj) \n",
    "print(reg6.rsquared_adj)\n",
    "print(reg7.rsquared_adj)"
   ]
  },
  {
   "cell_type": "code",
   "execution_count": 4,
   "id": "719e55ce",
   "metadata": {},
   "outputs": [
    {
     "data": {
      "image/png": "[encoded data removed]",
      "text/plain": [
       "<Figure size 432x288 with 1 Axes>"
      ]
     },
     "metadata": {
      "needs_background": "light"
     },
     "output_type": "display_data"
    }
   ],
   "source": [
    "#9.b.\n",
    "\n",
    "#10.d.\n",
    "\n",
    "reg10 = smf.ols('price ~ livingSpace', data = he).fit()\n",
    "reg10.params\n",
    "reg10.rsquared\n",
    "\n",
    "sb.regplot(y = he.price , x = he.livingSpace, line_kws = {'color': 'red'})\n",
    "plt.show()"
   ]
  },
  {
   "cell_type": "code",
   "execution_count": 5,
   "id": "0423af99",
   "metadata": {},
   "outputs": [
    {
     "name": "stdout",
     "output_type": "stream",
     "text": [
      "0.5813517171895674\n",
      "0.5830971567062172\n",
      "0.6315508119823263\n",
      "0.5815620664022944\n",
      "0.580565049008039\n"
     ]
    }
   ],
   "source": [
    "#11.b,c,d\n",
    "\n",
    "#12.a,b,c \n",
    "\n",
    "#adjusted rsquared\n",
    "\n",
    "reg12 = smf.ols('price ~ livingSpace', data = he).fit()\n",
    "reg13 = smf.ols('price ~ livingSpace + lotSpace', data = he).fit()\n",
    "reg14 = smf.ols('price ~ livingSpace + bedrooms', data = he).fit()\n",
    "reg15 = smf.ols('price ~ livingSpace + yearBuilt', data = he).fit()\n",
    "reg16 = smf.ols('price ~ livingSpace + waterfront', data = he).fit()\n",
    "\n",
    "print(reg12.rsquared_adj)\n",
    "print(reg13.rsquared_adj)\n",
    "print(reg14.rsquared_adj)\n",
    "print(reg15.rsquared_adj)\n",
    "print(reg16.rsquared_adj)\n"
   ]
  },
  {
   "cell_type": "code",
   "execution_count": 11,
   "id": "2436712f",
   "metadata": {},
   "outputs": [
    {
     "data": {
      "text/plain": [
       "Intercept              11164.242627\n",
       "C(basement)[T.Yes]     30861.764347\n",
       "waterfront[T.Yes]       1739.015195\n",
       "livingSpace              390.683359\n",
       "bedrooms             -165713.690200\n",
       "bathrooms              62229.820964\n",
       "noFloors               44636.227546\n",
       "dtype: float64"
      ]
     },
     "execution_count": 11,
     "metadata": {},
     "output_type": "execute_result"
    }
   ],
   "source": [
    "#13.c.\n",
    "\n",
    "he.basement\n",
    "\n",
    "reg13 = smf.ols('price ~ C(basement)', data = he).fit()\n",
    "\n",
    "#identifying ommited variables\n",
    "#dummies\n",
    "\n",
    "he['basementDummy'] = he.basement == 'Yes'\n",
    "he['waterfrontDummy'] = he.waterfront == 'Yes'\n",
    "\n",
    "he.corr()[['price', 'basementDummy']]\n",
    "\n",
    "#Living Space\n",
    "#Bedrooms\n",
    "#Bathroms\n",
    "#Number of Floors\n",
    "#Waterfront\n",
    "\n",
    "reg13OVBCorrected = smf.ols('price ~ C(basement) + livingSpace + bedrooms + bathrooms + noFloors + waterfront', data = he).fit()\n",
    "reg13OVBCorrected.params\n",
    "\n",
    "#Moreover, we cannot reject that the coefficient is statistically different than zero."
   ]
  },
  {
   "cell_type": "code",
   "execution_count": 10,
   "id": "c8da51f5",
   "metadata": {},
   "outputs": [],
   "source": [
    "#14 b.,d."
   ]
  },
  {
   "cell_type": "code",
   "execution_count": 13,
   "id": "1eda1373",
   "metadata": {},
   "outputs": [
    {
     "data": {
      "text/html": [
       "<div>\n",
       "<style scoped>\n",
       "    .dataframe tbody tr th:only-of-type {\n",
       "        vertical-align: middle;\n",
       "    }\n",
       "\n",
       "    .dataframe tbody tr th {\n",
       "        vertical-align: top;\n",
       "    }\n",
       "\n",
       "    .dataframe thead th {\n",
       "        text-align: right;\n",
       "    }\n",
       "</style>\n",
       "<table border=\"1\" class=\"dataframe\">\n",
       "  <thead>\n",
       "    <tr style=\"text-align: right;\">\n",
       "      <th></th>\n",
       "      <th>price</th>\n",
       "      <th>waterfrontDummy</th>\n",
       "    </tr>\n",
       "  </thead>\n",
       "  <tbody>\n",
       "    <tr>\n",
       "      <th>id</th>\n",
       "      <td>-0.064223</td>\n",
       "      <td>0.029439</td>\n",
       "    </tr>\n",
       "    <tr>\n",
       "      <th>zipCode</th>\n",
       "      <td>-0.206093</td>\n",
       "      <td>-0.051720</td>\n",
       "    </tr>\n",
       "    <tr>\n",
       "      <th>yearBuilt</th>\n",
       "      <td>-0.000901</td>\n",
       "      <td>0.024059</td>\n",
       "    </tr>\n",
       "    <tr>\n",
       "      <th>price</th>\n",
       "      <td>1.000000</td>\n",
       "      <td>-0.036870</td>\n",
       "    </tr>\n",
       "    <tr>\n",
       "      <th>livingSpace</th>\n",
       "      <td>0.763001</td>\n",
       "      <td>-0.040500</td>\n",
       "    </tr>\n",
       "    <tr>\n",
       "      <th>lotSpace</th>\n",
       "      <td>0.098296</td>\n",
       "      <td>-0.053826</td>\n",
       "    </tr>\n",
       "    <tr>\n",
       "      <th>bedrooms</th>\n",
       "      <td>0.334403</td>\n",
       "      <td>-0.002323</td>\n",
       "    </tr>\n",
       "    <tr>\n",
       "      <th>bathrooms</th>\n",
       "      <td>0.561936</td>\n",
       "      <td>0.005211</td>\n",
       "    </tr>\n",
       "    <tr>\n",
       "      <th>noFloors</th>\n",
       "      <td>0.097668</td>\n",
       "      <td>-0.013334</td>\n",
       "    </tr>\n",
       "    <tr>\n",
       "      <th>basementDummy</th>\n",
       "      <td>0.110141</td>\n",
       "      <td>-0.088487</td>\n",
       "    </tr>\n",
       "    <tr>\n",
       "      <th>waterfrontDummy</th>\n",
       "      <td>-0.036870</td>\n",
       "      <td>1.000000</td>\n",
       "    </tr>\n",
       "  </tbody>\n",
       "</table>\n",
       "</div>"
      ],
      "text/plain": [
       "                    price  waterfrontDummy\n",
       "id              -0.064223         0.029439\n",
       "zipCode         -0.206093        -0.051720\n",
       "yearBuilt       -0.000901         0.024059\n",
       "price            1.000000        -0.036870\n",
       "livingSpace      0.763001        -0.040500\n",
       "lotSpace         0.098296        -0.053826\n",
       "bedrooms         0.334403        -0.002323\n",
       "bathrooms        0.561936         0.005211\n",
       "noFloors         0.097668        -0.013334\n",
       "basementDummy    0.110141        -0.088487\n",
       "waterfrontDummy -0.036870         1.000000"
      ]
     },
     "execution_count": 13,
     "metadata": {},
     "output_type": "execute_result"
    }
   ],
   "source": [
    "#15.b\n",
    "\n",
    "reg15 = smf.ols('price ~ C(waterfront)', data = he).fit()\n",
    "\n",
    "he.corr()[['price', 'waterfrontDummy']]\n",
    "\n",
    "#Living Space\n",
    "#Lot space\n",
    "#Basement"
   ]
  },
  {
   "cell_type": "code",
   "execution_count": 34,
   "id": "b8867b63",
   "metadata": {},
   "outputs": [
    {
     "data": {
      "image/png": "[encoded data removed]",
      "text/plain": [
       "<Figure size 432x288 with 1 Axes>"
      ]
     },
     "metadata": {
      "needs_background": "light"
     },
     "output_type": "display_data"
    }
   ],
   "source": [
    "#16a. \n",
    "\n",
    "reg15 = smf.ols('price ~ C(waterfront)', data = he).fit()\n",
    "reg15.fittedvalues\n",
    "reg15.resid\n",
    "\n",
    "plt.hist(reg15.resid)\n",
    "plt.show()\n"
   ]
  },
  {
   "cell_type": "code",
   "execution_count": 39,
   "id": "a7143823",
   "metadata": {},
   "outputs": [
    {
     "data": {
      "text/html": [
       "<div>\n",
       "<style scoped>\n",
       "    .dataframe tbody tr th:only-of-type {\n",
       "        vertical-align: middle;\n",
       "    }\n",
       "\n",
       "    .dataframe tbody tr th {\n",
       "        vertical-align: top;\n",
       "    }\n",
       "\n",
       "    .dataframe thead th {\n",
       "        text-align: right;\n",
       "    }\n",
       "</style>\n",
       "<table border=\"1\" class=\"dataframe\">\n",
       "  <thead>\n",
       "    <tr style=\"text-align: right;\">\n",
       "      <th></th>\n",
       "      <th>livingSpace</th>\n",
       "      <th>bathrooms</th>\n",
       "    </tr>\n",
       "  </thead>\n",
       "  <tbody>\n",
       "    <tr>\n",
       "      <th>id</th>\n",
       "      <td>-0.051877</td>\n",
       "      <td>-0.022932</td>\n",
       "    </tr>\n",
       "    <tr>\n",
       "      <th>zipCode</th>\n",
       "      <td>-0.353605</td>\n",
       "      <td>-0.200628</td>\n",
       "    </tr>\n",
       "    <tr>\n",
       "      <th>yearBuilt</th>\n",
       "      <td>-0.043180</td>\n",
       "      <td>0.034580</td>\n",
       "    </tr>\n",
       "    <tr>\n",
       "      <th>price</th>\n",
       "      <td>0.763001</td>\n",
       "      <td>0.561936</td>\n",
       "    </tr>\n",
       "    <tr>\n",
       "      <th>livingSpace</th>\n",
       "      <td>1.000000</td>\n",
       "      <td>0.762822</td>\n",
       "    </tr>\n",
       "    <tr>\n",
       "      <th>lotSpace</th>\n",
       "      <td>0.193855</td>\n",
       "      <td>0.101639</td>\n",
       "    </tr>\n",
       "    <tr>\n",
       "      <th>bedrooms</th>\n",
       "      <td>0.660193</td>\n",
       "      <td>0.714796</td>\n",
       "    </tr>\n",
       "    <tr>\n",
       "      <th>bathrooms</th>\n",
       "      <td>0.762822</td>\n",
       "      <td>1.000000</td>\n",
       "    </tr>\n",
       "    <tr>\n",
       "      <th>noFloors</th>\n",
       "      <td>0.063049</td>\n",
       "      <td>0.189545</td>\n",
       "    </tr>\n",
       "    <tr>\n",
       "      <th>basementDummy</th>\n",
       "      <td>0.094614</td>\n",
       "      <td>0.182848</td>\n",
       "    </tr>\n",
       "    <tr>\n",
       "      <th>waterfrontDummy</th>\n",
       "      <td>-0.040500</td>\n",
       "      <td>0.005211</td>\n",
       "    </tr>\n",
       "  </tbody>\n",
       "</table>\n",
       "</div>"
      ],
      "text/plain": [
       "                 livingSpace  bathrooms\n",
       "id                 -0.051877  -0.022932\n",
       "zipCode            -0.353605  -0.200628\n",
       "yearBuilt          -0.043180   0.034580\n",
       "price               0.763001   0.561936\n",
       "livingSpace         1.000000   0.762822\n",
       "lotSpace            0.193855   0.101639\n",
       "bedrooms            0.660193   0.714796\n",
       "bathrooms           0.762822   1.000000\n",
       "noFloors            0.063049   0.189545\n",
       "basementDummy       0.094614   0.182848\n",
       "waterfrontDummy    -0.040500   0.005211"
      ]
     },
     "execution_count": 39,
     "metadata": {},
     "output_type": "execute_result"
    }
   ],
   "source": [
    "#17.a,d\n",
    "\n",
    "he.corr()[['livingSpace', 'bathrooms']]\n",
    "\n",
    "#won't correct\n",
    "#yearbuilt\n",
    "#nofloors"
   ]
  },
  {
   "cell_type": "code",
   "execution_count": null,
   "id": "b1f927db",
   "metadata": {},
   "outputs": [],
   "source": []
  }
 ],
 "metadata": {
  "kernelspec": {
   "display_name": "Python 3 (ipykernel)",
   "language": "python",
   "name": "python3"
  },
  "language_info": {
   "codemirror_mode": {
    "name": "ipython",
    "version": 3
   },
   "file_extension": ".py",
   "mimetype": "text/x-python",
   "name": "python",
   "nbconvert_exporter": "python",
   "pygments_lexer": "ipython3",
   "version": "3.9.12"
  }
 },
 "nbformat": 4,
 "nbformat_minor": 5
}
