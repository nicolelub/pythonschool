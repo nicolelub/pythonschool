{
 "cells": [
  {
   "cell_type": "code",
   "execution_count": 1,
   "id": "0089d611",
   "metadata": {},
   "outputs": [],
   "source": [
    "  # Course : BA222\n",
    "  # Title  : In-Class Assigment 02\n",
    "  # Author : Nicole Lubaczewska\n",
    "  # Date   : 05/10\n",
    "  # Description: My solutions to ICA02, see ICA02.pdf file for\n",
    "  #              detailed instructions."
   ]
  },
  {
   "cell_type": "code",
   "execution_count": 2,
   "id": "0f0c749d",
   "metadata": {},
   "outputs": [
    {
     "name": "stdout",
     "output_type": "stream",
     "text": [
      "Hello World!\n"
     ]
    }
   ],
   "source": [
    "# Cell 2.A\n",
    "# This cell should produce the output:\n",
    "# 'Hello World!'\n",
    "\n",
    "print('Hello World!')\n",
    " "
   ]
  },
  {
   "cell_type": "code",
   "execution_count": 3,
   "id": "32133787",
   "metadata": {},
   "outputs": [
    {
     "data": {
      "text/plain": [
       "'2bornot2b'"
      ]
     },
     "execution_count": 3,
     "metadata": {},
     "output_type": "execute_result"
    }
   ],
   "source": [
    "# This cell should produce the output:\n",
    "# '2bornot2b'\n",
    "\n",
    "'2' + 'bornot' + '2' + 'b'\n"
   ]
  },
  {
   "cell_type": "code",
   "execution_count": 8,
   "id": "ce235763",
   "metadata": {},
   "outputs": [
    {
     "name": "stdout",
     "output_type": "stream",
     "text": [
      "Neil Alper\n"
     ]
    }
   ],
   "source": [
    "# Cell 2.C\n",
    "# This cell should save the name and last name\n",
    "# of an invidiual and then produce the output\n",
    "# 'name lastName' replacing name with the\n",
    "# name in memory and lastName with the last\n",
    "# name in memory\n",
    "\n",
    "name = 'Neil'\n",
    "lastName = 'Alper'\n",
    "\n",
    "print(name + ' ' + lastName)"
   ]
  },
  {
   "cell_type": "code",
   "execution_count": 33,
   "id": "1db8a52e",
   "metadata": {},
   "outputs": [
    {
     "data": {
      "text/plain": [
       "15"
      ]
     },
     "execution_count": 33,
     "metadata": {},
     "output_type": "execute_result"
    }
   ],
   "source": [
    "# Cell 2.D\n",
    "# This cell should compute the area\n",
    "# of a rectangle\n",
    "\n",
    "w = 5 \n",
    "h = 3\n",
    "area = w * h\n",
    "\n",
    "area\n",
    "  "
   ]
  },
  {
   "cell_type": "code",
   "execution_count": 16,
   "id": "103f70c8",
   "metadata": {},
   "outputs": [
    {
     "data": {
      "text/plain": [
       "10200"
      ]
     },
     "execution_count": 16,
     "metadata": {},
     "output_type": "execute_result"
    }
   ],
   "source": [
    " # Cell 2.E\n",
    "  # This cell should compute the total cost\n",
    "  # using fixed cost and marginal cost as\n",
    "  # inputs and units produced as a decision\n",
    "  # variable. The total cost is the sum of\n",
    "  # variable and fixed cost. The variable\n",
    "  # cost is the units produced times the\n",
    "  # marginal cost.\n",
    "  # INPUTS\n",
    "\n",
    "mc = 10\n",
    "fc = 10000\n",
    "\n",
    "# DECISION VARIABLE\n",
    "\n",
    "q = 20\n",
    "\n",
    "# INTERMEDIATE CALCULATIONS\n",
    "\n",
    "vc = mc * q\n",
    "\n",
    "# OBJECTIVE\n",
    "tc = vc + fc\n",
    "\n",
    "tc\n"
   ]
  },
  {
   "cell_type": "code",
   "execution_count": 17,
   "id": "5fe28ed5",
   "metadata": {},
   "outputs": [
    {
     "data": {
      "text/plain": [
       "6.0"
      ]
     },
     "execution_count": 17,
     "metadata": {},
     "output_type": "execute_result"
    }
   ],
   "source": [
    "# Cell 3.A\n",
    "  # This cell should save the\n",
    "  # base and height of a triangle and\n",
    "  # calculate the area.\n",
    "    \n",
    "b = 4\n",
    "h = 3\n",
    "area = (b * h)/2\n",
    "\n",
    "area\n",
    " "
   ]
  },
  {
   "cell_type": "code",
   "execution_count": 25,
   "id": "49190825",
   "metadata": {},
   "outputs": [
    {
     "name": "stdout",
     "output_type": "stream",
     "text": [
      "Welcome to the big lion and small dolphin tavern!\n"
     ]
    }
   ],
   "source": [
    " # Cell 3.B\n",
    "# This cell should save two different\n",
    "# adjectives and two different animal\n",
    "# names.\n",
    "# Then it should combine the first\n",
    "# adjective with the first animal name\n",
    "# and the second adjective with the\n",
    "# second animal name.\n",
    "# Finally it should print the message\n",
    "# 'Welcome to the adjective1 + animal1 and adjective2 + animal2 tavern'!\n",
    "\n",
    "animal1 = 'lion'\n",
    "animal2 = 'dolphin'\n",
    "\n",
    "adjective1 = 'big'\n",
    "adjective2 = 'small'\n",
    "\n",
    "print('Welcome to the',adjective1, animal1, 'and', adjective2, animal2, 'tavern!')\n",
    " "
   ]
  },
  {
   "cell_type": "code",
   "execution_count": 29,
   "id": "7911fcd4",
   "metadata": {},
   "outputs": [
    {
     "name": "stdout",
     "output_type": "stream",
     "text": [
      "Hi Max ! it seems that you are 7 years old.\n",
      "Permission to access content: False\n"
     ]
    }
   ],
   "source": [
    "# Cell 3.C\n",
    "# This cell should take a name and the age\n",
    "# of an individual in years. And return the\n",
    "# following message:\n",
    "# 'Hi name! it seems that you are age years old.'\n",
    "# and on a separate line, if the individual is\n",
    "# not older than 18 years old:\n",
    "# 'Permission to access content: False'\n",
    "# If the individual is older than 18,\n",
    "# the message should read:\n",
    "# 'Permission to access content: True'\n",
    "\n",
    "age = 7\n",
    "name = 'Max'\n",
    "\n",
    "if age > 18:\n",
    "    print ('Hi', name,'!', 'It seems that you are', age, 'years old.')\n",
    "    print ('Permission to access content: True')\n",
    "else:\n",
    "    print ('Hi', name, '!', 'it seems that you are', age, 'years old.')\n",
    "    print ('Permission to access content: False')"
   ]
  },
  {
   "cell_type": "code",
   "execution_count": 35,
   "id": "5f1ee632",
   "metadata": {},
   "outputs": [
    {
     "data": {
      "text/plain": [
       "10.0"
      ]
     },
     "execution_count": 35,
     "metadata": {},
     "output_type": "execute_result"
    }
   ],
   "source": [
    "# Cell 3.D\n",
    "# Use the math package to answer this question.\n",
    "# Let n be the total number of elements in a set and\n",
    "# k the number of selected objects from the set.\n",
    "# This cell should compute all the possible combinations\n",
    "# of taking k elements from the set n.\n",
    "# Hint1: Figure out the formula for combinations\n",
    "# Hint2: Figure out if there is a formula for factorials in the #\n",
    "\n",
    "import math\n",
    "\n",
    "n = 5\n",
    "k = 2\n",
    "\n",
    "# COMBINATIONS: FORMULA  n! / (k! (n - k)!)\n",
    "combinations = math.factorial(n) / (math.factorial(k) * math.factorial(n - k))\n",
    "combinations"
   ]
  },
  {
   "cell_type": "code",
   "execution_count": null,
   "id": "1855bc0a",
   "metadata": {},
   "outputs": [],
   "source": []
  }
 ],
 "metadata": {
  "kernelspec": {
   "display_name": "Python 3 (ipykernel)",
   "language": "python",
   "name": "python3"
  },
  "language_info": {
   "codemirror_mode": {
    "name": "ipython",
    "version": 3
   },
   "file_extension": ".py",
   "mimetype": "text/x-python",
   "name": "python",
   "nbconvert_exporter": "python",
   "pygments_lexer": "ipython3",
   "version": "3.9.12"
  }
 },
 "nbformat": 4,
 "nbformat_minor": 5
}
