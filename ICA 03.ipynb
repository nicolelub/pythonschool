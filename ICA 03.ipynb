{
 "cells": [
  {
   "cell_type": "code",
   "execution_count": 14,
   "id": "e573cbb7",
   "metadata": {},
   "outputs": [
    {
     "name": "stdout",
     "output_type": "stream",
     "text": [
      "it's a cat!\n"
     ]
    }
   ],
   "source": [
    "# Cell 1.A\n",
    "# This cell should check if an animal is a cat and print\n",
    "# a message that reads 'it's a cat!' if the animal is indeed\n",
    "# a cat. Do nothing otherwise.\n",
    "\n",
    "animal = 'cat'\n",
    "\n",
    "if (animal == 'cat'):\n",
    "    print('it\\'s a cat!')\n",
    " "
   ]
  },
  {
   "cell_type": "code",
   "execution_count": 13,
   "id": "de2fc14b",
   "metadata": {},
   "outputs": [
    {
     "name": "stdout",
     "output_type": "stream",
     "text": [
      "At least one input is negative\n"
     ]
    }
   ],
   "source": [
    "# Cell 1.B\n",
    "# This cell should check if two quantities are positive.\n",
    "# If they are positive, it will multiply them and print a\n",
    "# message that reads 'the product is equal to x' where\n",
    "# x is the result of the product. Otherwise print a message\n",
    "# stating that one or both numbers is negative.\n",
    "\n",
    "a = -7\n",
    "b = 4\n",
    "\n",
    "if ((a > 0) and (b > 0)): \n",
    "    x = a * b\n",
    "    print('The product is equal to', x)\n",
    "else:\n",
    "    print('At least one input is negative')"
   ]
  },
  {
   "cell_type": "code",
   "execution_count": 20,
   "id": "3e59a461",
   "metadata": {},
   "outputs": [
    {
     "name": "stdout",
     "output_type": "stream",
     "text": [
      "the weight is below capacity\n"
     ]
    }
   ],
   "source": [
    "# Cell 1.C\n",
    "# This cell should check if the total weight of the cargo on\n",
    "# a train is: (a) below capacity, (b) at capacity or\n",
    "# (c) above capacity. And print a message\n",
    "# indicating so respectively.\n",
    "\n",
    "w = 100\n",
    "capacity = 200\n",
    "\n",
    "if (w < capacity):\n",
    "    print('the weight is below capacity')\n",
    "elif (w == capacity):\n",
    "        print('the weight is at capacity')\n",
    "elif (w > capacity):\n",
    "        print('the weight is above capacity')\n",
    " "
   ]
  },
  {
   "cell_type": "code",
   "execution_count": 36,
   "id": "73b53f8c",
   "metadata": {},
   "outputs": [
    {
     "name": "stdout",
     "output_type": "stream",
     "text": [
      "Dawn\n"
     ]
    }
   ],
   "source": [
    "#Cell 1.D\n",
    "  # Write a cell to check a given time, expressed as\n",
    "  # two integers and a string. One integer represent the hours\n",
    "  # the second integers the minutes and the third integer\n",
    "  # if it time is 'AM' or 'PM'.\n",
    "  # If the time is between 6:01 AM and 8:00 AM print 'Dawn',\n",
    "  # If the time is between 8:01 AM and 12:00 PM print 'Morning',\n",
    "  # If the time is between 12:01 PM and 6:00 PM print 'Afternoon',\n",
    "  # If the time is between 6:01 PM and 8:00 PM print 'Dusk',\n",
    "  # If the time is between 8:01 PM and 6:01 AM print 'Night',\n",
    "    \n",
    "h = 6 # HOURS\n",
    "m = 1 # MINUTES\n",
    "p = 'AM' # TIME PERIOD (AM or PM)\n",
    "\n",
    "dawnRange = ((6 <= h < 8) & (p == 'AM')) |  ((h == 8) & (m == 0) & (p == 'AM'))\n",
    "dawnException = not((h == 6) & (m == 0) & (p == 'AM'))\n",
    "\n",
    "morningRange = ((8 <= h < 12) & (p == 'AM')) |  ((h == 12) & (m == 0) & (p == 'PM'))\n",
    "morningException = not((h == 8) & (m == 0) & (p == 'AM'))\n",
    "\n",
    "afternoonRange = ((12 <= h < 6) & (p == 'PM')) |  ((h == 6) & (m == 0) & (p == 'PM'))\n",
    "afternoonException = not((h == 12) & (m == 0) & (p == 'PM'))\n",
    "\n",
    "duskRange = ((6 <= h < 8) & (p == 'PM')) |  ((h == 8) & (m == 0) & (p == 'PM'))\n",
    "duskException = not((h == 6) & (m == 0) & (p == 'PM'))\n",
    "\n",
    "\n",
    "if dawnRange & dawnException:\n",
    "    print('Dawn')\n",
    "elif morningRange & morningException:\n",
    "    print('Morning')\n",
    "elif afternoonRange & afternoonException:\n",
    "    print('Afternoon')\n",
    "elif duskRange & duskException:\n",
    "    print('Dusk')\n",
    "else:\n",
    "    print('Night')\n",
    "    "
   ]
  },
  {
   "cell_type": "code",
   "execution_count": 43,
   "id": "77c66d61",
   "metadata": {},
   "outputs": [
    {
     "name": "stdout",
     "output_type": "stream",
     "text": [
      "The time is 6 hours and 43 minutes AM\n"
     ]
    }
   ],
   "source": [
    "# Cell 1.E\n",
    "  # Write a cell to check a given time, expressed as\n",
    "  # two integers and a string. One integer represent the hours\n",
    "  # the second integers the minutes and the third integer\n",
    "  # if it time is 'AM' or 'PM'.\n",
    "  # Check the original time and print the time using a 24 hours\n",
    "  # time scale\n",
    "\n",
    "h = 6 # HOURS\n",
    "m = 43 # MINUTES\n",
    "p = 'AM' # TIME PERIOD (AM or PM)\n",
    "\n",
    "if (p == 'AM'):\n",
    "    print('The time is', h, 'hours and', m, 'minutes', p)\n",
    "else:\n",
    "    print('The time is', h + 12, 'hours and', m, 'minutes', p)"
   ]
  },
  {
   "cell_type": "code",
   "execution_count": 55,
   "id": "9315b8d7",
   "metadata": {},
   "outputs": [
    {
     "name": "stdout",
     "output_type": "stream",
     "text": [
      "Have a good day Nicole !\n"
     ]
    }
   ],
   "source": [
    "# Cell 2.A\n",
    "  # This function should take a name (string) as an input and\n",
    "  # print a message that reads 'Have a good day name!'\n",
    "\n",
    "def greeting(name):\n",
    "      print('Have a good day', name, '!')\n",
    "\n",
    "greeting('Nicole')"
   ]
  },
  {
   "cell_type": "code",
   "execution_count": 58,
   "id": "e222720a",
   "metadata": {},
   "outputs": [
    {
     "data": {
      "text/plain": [
       "15.0"
      ]
     },
     "execution_count": 58,
     "metadata": {},
     "output_type": "execute_result"
    }
   ],
   "source": [
    "# Cell 2.B\n",
    "  # This function should take two inputs. The current exchange\n",
    "  # rate between a given currency and the dollar and a quantity\n",
    "  # of the currency to convert.\n",
    "  # It should return the amount of dollars\n",
    "\n",
    "def converter(xRate, currencyAmount):\n",
    "    dollars = xRate * currencyAmount\n",
    "    return(dollars)\n",
    "\n",
    "xRate = 1.5\n",
    "currencyAmount = 10\n",
    "\n",
    "converter(xRate, currencyAmount)\n",
    " "
   ]
  },
  {
   "cell_type": "code",
   "execution_count": 73,
   "id": "fd27fca0",
   "metadata": {},
   "outputs": [
    {
     "data": {
      "text/plain": [
       "44"
      ]
     },
     "execution_count": 73,
     "metadata": {},
     "output_type": "execute_result"
    }
   ],
   "source": [
    " # Cell 2.C\n",
    "# This function should take three inputs.\n",
    "# A minimum value, a maximum value and an x value.\n",
    "# Calculate the value of y as y = -100 + (x ** 2)\n",
    "# Then if the value of y is less than the minimum, return\n",
    "# the minimum. If the value of y is greater than the maximum\n",
    "# return the maximum. If the value of y is between the\n",
    "# minimum and the maximum return the value of y.\n",
    "\n",
    "def complexFunction(yMin, yMax, x):\n",
    "    y = -100 + (x ** 2)\n",
    "    if (y < yMin):\n",
    "        return(yMin)\n",
    "    elif (y > yMax):\n",
    "        return(yMax)\n",
    "    else:\n",
    "        return(y)\n",
    "\n",
    "# Testing\n",
    "\n",
    "complexFunction(20, 100, 12)\n"
   ]
  },
  {
   "cell_type": "code",
   "execution_count": 81,
   "id": "b79b1746",
   "metadata": {},
   "outputs": [
    {
     "name": "stdout",
     "output_type": "stream",
     "text": [
      "Error!\n"
     ]
    }
   ],
   "source": [
    "# Cell 2.D\n",
    "  # This function should take two inputs. If both of them are\n",
    "  # non-negative, use them to compute the area of a triangle\n",
    "\n",
    "def TriangleArea(a,b):\n",
    "    if ((a > 0) & (b > 0)):\n",
    "        area = a * b\n",
    "        return(area)\n",
    "    else:\n",
    "        print ('Error!')\n",
    "        \n",
    "TriangleArea(-3,4)"
   ]
  },
  {
   "cell_type": "code",
   "execution_count": 85,
   "id": "03f99666",
   "metadata": {},
   "outputs": [
    {
     "data": {
      "text/plain": [
       "8"
      ]
     },
     "execution_count": 85,
     "metadata": {},
     "output_type": "execute_result"
    }
   ],
   "source": [
    "# Cell 2.E\n",
    "  # Write a function to return the greater value of two inputs.\n",
    "\n",
    "def GreaterValue(x,y):\n",
    "    if x > y:\n",
    "        return (x)\n",
    "    elif y > x:\n",
    "        return (y)\n",
    "  \n",
    "\n",
    "GreaterValue (8,7)"
   ]
  },
  {
   "cell_type": "code",
   "execution_count": 87,
   "id": "7cd77800",
   "metadata": {},
   "outputs": [
    {
     "data": {
      "text/plain": [
       "'banana'"
      ]
     },
     "execution_count": 87,
     "metadata": {},
     "output_type": "execute_result"
    }
   ],
   "source": [
    "#Cell 3.A\n",
    "# This cell should read the value of a list and return\n",
    "# the second element\n",
    "\n",
    "fruits = ['apple', 'banana', 'cherry', 'durian', 'elderberry']\n",
    "\n",
    "fruits[1]"
   ]
  },
  {
   "cell_type": "code",
   "execution_count": 94,
   "id": "92e60c90",
   "metadata": {},
   "outputs": [
    {
     "data": {
      "text/plain": [
       "'elderberry'"
      ]
     },
     "execution_count": 94,
     "metadata": {},
     "output_type": "execute_result"
    }
   ],
   "source": [
    "# Cell 3.B\n",
    "# This cell should read the value of a list and return\n",
    "# the last element\n",
    "\n",
    "fruits = ['apple', 'banana', 'cherry', 'durian', 'elderberry']\n",
    "\n",
    "fruits[-1]"
   ]
  },
  {
   "cell_type": "code",
   "execution_count": 98,
   "id": "5d02ea3d",
   "metadata": {},
   "outputs": [
    {
     "name": "stdout",
     "output_type": "stream",
     "text": [
      "[0, 2, 4, 6, 8]\n"
     ]
    }
   ],
   "source": [
    "# Cell 3.C\n",
    "# This cell should read the value of a list and multiply\n",
    "# them out by two. Save it to another list and return\n",
    "# the multiplied list\n",
    "\n",
    "values = range(0, 5) # do not need 5\n",
    "\n",
    "multipliedValues = list()\n",
    "\n",
    "for i in values:\n",
    "    multipliedValues.append(i * 2)\n",
    "\n",
    "print(multipliedValues)\n",
    " "
   ]
  },
  {
   "cell_type": "code",
   "execution_count": 104,
   "id": "7e6c0a69",
   "metadata": {},
   "outputs": [
    {
     "name": "stdout",
     "output_type": "stream",
     "text": [
      "2\n",
      "Error\n",
      "6\n",
      "12\n",
      "Error\n"
     ]
    }
   ],
   "source": [
    "# Cell 3.D\n",
    "  # Write a function to check that two inputs are non-negative. If\n",
    "  # they are non-negative return the product of the two. If they\n",
    "  # are not, return the string 'error'.\n",
    "  # Then, specify two lists of 5 numbers.\n",
    "  # Write a loop to evaluate the function using the elements\n",
    "  # in the same position of the two lists\n",
    "  # and print the result\n",
    "  # For instance: if list1 is [1, 2, 3, 4] and list2 is\n",
    "  # [2, 3, 2, 3, 5] the result should be\n",
    "  # [2, 6, 6, 9, 20]\n",
    "\n",
    "def product(x, y):\n",
    "    if (x >= 0) & (y >= 0):\n",
    "        return( x * y )\n",
    "    else:\n",
    "        return('Error')\n",
    "    \n",
    "list1 = [1, -1, 3, 4, -2] \n",
    "list2 = [2, 3, 2, 3, 5]\n",
    "\n",
    "n = len(list1)\n",
    "\n",
    "for i in range(0,n):\n",
    "    print(product(list1[i],list2[i]))\n",
    "    "
   ]
  },
  {
   "cell_type": "code",
   "execution_count": 106,
   "id": "9056277e",
   "metadata": {},
   "outputs": [
    {
     "name": "stdout",
     "output_type": "stream",
     "text": [
      "[2, 3, 6, 12, 10]\n"
     ]
    }
   ],
   "source": [
    "#another approach for 3.D\n",
    "\n",
    "import numpy as np\n",
    "\n",
    "list1 = [1, 1, 3, 4, 2] \n",
    "list2 = [2, 3, 2, 3, 5]\n",
    "\n",
    "multiplied = list(np.multiply(list1, list2))\n",
    "print(multiplied)\n"
   ]
  },
  {
   "cell_type": "code",
   "execution_count": 115,
   "id": "3473cc2c",
   "metadata": {},
   "outputs": [
    {
     "name": "stdout",
     "output_type": "stream",
     "text": [
      "The dog has 4 legs and lives in a house\n",
      "The cat has 4 legs and lives in a farm\n",
      "The lion has 4 legs and lives in a savanna\n",
      "The tiger has 4 legs and lives in a jungle\n"
     ]
    }
   ],
   "source": [
    "# Cell 3.E\n",
    "  # Make a lists of animals\n",
    "  # A list of how many legs the animals have\n",
    "  # A list of habitats for each of the animals\n",
    "  # Write a loop that goes over the different lists and print the\n",
    "  # message\n",
    "  #\n",
    "  # 'the animal has x legs and lives in the habitat'\n",
    "    \n",
    "animal = ['dog', 'cat', 'lion', 'tiger']\n",
    "legs = [4,4,4,4]\n",
    "habitat = ['house', 'farm', 'savanna', 'jungle']\n",
    "n = len(animals)\n",
    "\n",
    "for i in range(0,n):\n",
    "    print ('The', animal[i], 'has',legs[i], 'legs and lives in a', habitat[i])\n",
    "    "
   ]
  },
  {
   "cell_type": "code",
   "execution_count": null,
   "id": "e1f59f96",
   "metadata": {},
   "outputs": [],
   "source": []
  }
 ],
 "metadata": {
  "kernelspec": {
   "display_name": "Python 3 (ipykernel)",
   "language": "python",
   "name": "python3"
  },
  "language_info": {
   "codemirror_mode": {
    "name": "ipython",
    "version": 3
   },
   "file_extension": ".py",
   "mimetype": "text/x-python",
   "name": "python",
   "nbconvert_exporter": "python",
   "pygments_lexer": "ipython3",
   "version": "3.9.12"
  }
 },
 "nbformat": 4,
 "nbformat_minor": 5
}
