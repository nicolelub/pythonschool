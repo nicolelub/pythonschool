{
 "cells": [
  {
   "cell_type": "code",
   "execution_count": 1,
   "id": "a3fd95f0",
   "metadata": {},
   "outputs": [],
   "source": [
    "#Nicole Lubaczewska\n",
    "#October 13\n",
    "#ICA 07"
   ]
  },
  {
   "cell_type": "code",
   "execution_count": 2,
   "id": "8410dcb7",
   "metadata": {},
   "outputs": [
    {
     "data": {
      "text/html": [
       "<div>\n",
       "<style scoped>\n",
       "    .dataframe tbody tr th:only-of-type {\n",
       "        vertical-align: middle;\n",
       "    }\n",
       "\n",
       "    .dataframe tbody tr th {\n",
       "        vertical-align: top;\n",
       "    }\n",
       "\n",
       "    .dataframe thead th {\n",
       "        text-align: right;\n",
       "    }\n",
       "</style>\n",
       "<table border=\"1\" class=\"dataframe\">\n",
       "  <thead>\n",
       "    <tr style=\"text-align: right;\">\n",
       "      <th></th>\n",
       "      <th>Customer_ID</th>\n",
       "      <th>Gender</th>\n",
       "      <th>Age</th>\n",
       "      <th>Driving_License</th>\n",
       "      <th>Region_Code</th>\n",
       "      <th>Previously_Insured</th>\n",
       "      <th>Vehicle_Age</th>\n",
       "      <th>Vehicle_Damage</th>\n",
       "      <th>Annual_Premium</th>\n",
       "      <th>Policy_Sales_Channel</th>\n",
       "      <th>Vintage</th>\n",
       "    </tr>\n",
       "  </thead>\n",
       "  <tbody>\n",
       "    <tr>\n",
       "      <th>0</th>\n",
       "      <td>381110</td>\n",
       "      <td>M</td>\n",
       "      <td>25</td>\n",
       "      <td>1</td>\n",
       "      <td>11</td>\n",
       "      <td>1</td>\n",
       "      <td>&lt; 1 Year</td>\n",
       "      <td>No</td>\n",
       "      <td>35786</td>\n",
       "      <td>152</td>\n",
       "      <td>53</td>\n",
       "    </tr>\n",
       "    <tr>\n",
       "      <th>1</th>\n",
       "      <td>381111</td>\n",
       "      <td>M</td>\n",
       "      <td>40</td>\n",
       "      <td>1</td>\n",
       "      <td>28</td>\n",
       "      <td>0</td>\n",
       "      <td>1-2 Year</td>\n",
       "      <td>Yes</td>\n",
       "      <td>33762</td>\n",
       "      <td>7</td>\n",
       "      <td>111</td>\n",
       "    </tr>\n",
       "    <tr>\n",
       "      <th>2</th>\n",
       "      <td>381112</td>\n",
       "      <td>M</td>\n",
       "      <td>47</td>\n",
       "      <td>1</td>\n",
       "      <td>28</td>\n",
       "      <td>0</td>\n",
       "      <td>1-2 Year</td>\n",
       "      <td>Yes</td>\n",
       "      <td>40050</td>\n",
       "      <td>124</td>\n",
       "      <td>199</td>\n",
       "    </tr>\n",
       "    <tr>\n",
       "      <th>3</th>\n",
       "      <td>381113</td>\n",
       "      <td>M</td>\n",
       "      <td>24</td>\n",
       "      <td>1</td>\n",
       "      <td>27</td>\n",
       "      <td>1</td>\n",
       "      <td>&lt; 1 Year</td>\n",
       "      <td>Yes</td>\n",
       "      <td>37356</td>\n",
       "      <td>152</td>\n",
       "      <td>187</td>\n",
       "    </tr>\n",
       "    <tr>\n",
       "      <th>4</th>\n",
       "      <td>381114</td>\n",
       "      <td>M</td>\n",
       "      <td>27</td>\n",
       "      <td>1</td>\n",
       "      <td>28</td>\n",
       "      <td>1</td>\n",
       "      <td>&lt; 1 Year</td>\n",
       "      <td>No</td>\n",
       "      <td>59097</td>\n",
       "      <td>152</td>\n",
       "      <td>297</td>\n",
       "    </tr>\n",
       "    <tr>\n",
       "      <th>...</th>\n",
       "      <td>...</td>\n",
       "      <td>...</td>\n",
       "      <td>...</td>\n",
       "      <td>...</td>\n",
       "      <td>...</td>\n",
       "      <td>...</td>\n",
       "      <td>...</td>\n",
       "      <td>...</td>\n",
       "      <td>...</td>\n",
       "      <td>...</td>\n",
       "      <td>...</td>\n",
       "    </tr>\n",
       "    <tr>\n",
       "      <th>127032</th>\n",
       "      <td>508142</td>\n",
       "      <td>F</td>\n",
       "      <td>26</td>\n",
       "      <td>1</td>\n",
       "      <td>37</td>\n",
       "      <td>1</td>\n",
       "      <td>&lt; 1 Year</td>\n",
       "      <td>No</td>\n",
       "      <td>30867</td>\n",
       "      <td>152</td>\n",
       "      <td>56</td>\n",
       "    </tr>\n",
       "    <tr>\n",
       "      <th>127033</th>\n",
       "      <td>508143</td>\n",
       "      <td>F</td>\n",
       "      <td>38</td>\n",
       "      <td>1</td>\n",
       "      <td>28</td>\n",
       "      <td>0</td>\n",
       "      <td>1-2 Year</td>\n",
       "      <td>Yes</td>\n",
       "      <td>28700</td>\n",
       "      <td>122</td>\n",
       "      <td>165</td>\n",
       "    </tr>\n",
       "    <tr>\n",
       "      <th>127034</th>\n",
       "      <td>508144</td>\n",
       "      <td>M</td>\n",
       "      <td>21</td>\n",
       "      <td>1</td>\n",
       "      <td>46</td>\n",
       "      <td>1</td>\n",
       "      <td>&lt; 1 Year</td>\n",
       "      <td>No</td>\n",
       "      <td>29802</td>\n",
       "      <td>152</td>\n",
       "      <td>74</td>\n",
       "    </tr>\n",
       "    <tr>\n",
       "      <th>127035</th>\n",
       "      <td>508145</td>\n",
       "      <td>M</td>\n",
       "      <td>71</td>\n",
       "      <td>1</td>\n",
       "      <td>28</td>\n",
       "      <td>1</td>\n",
       "      <td>1-2 Year</td>\n",
       "      <td>No</td>\n",
       "      <td>62875</td>\n",
       "      <td>26</td>\n",
       "      <td>265</td>\n",
       "    </tr>\n",
       "    <tr>\n",
       "      <th>127036</th>\n",
       "      <td>508146</td>\n",
       "      <td>M</td>\n",
       "      <td>41</td>\n",
       "      <td>1</td>\n",
       "      <td>29</td>\n",
       "      <td>1</td>\n",
       "      <td>1-2 Year</td>\n",
       "      <td>No</td>\n",
       "      <td>27927</td>\n",
       "      <td>124</td>\n",
       "      <td>231</td>\n",
       "    </tr>\n",
       "  </tbody>\n",
       "</table>\n",
       "<p>127037 rows × 11 columns</p>\n",
       "</div>"
      ],
      "text/plain": [
       "        Customer_ID Gender  Age  Driving_License  Region_Code  \\\n",
       "0            381110      M   25                1           11   \n",
       "1            381111      M   40                1           28   \n",
       "2            381112      M   47                1           28   \n",
       "3            381113      M   24                1           27   \n",
       "4            381114      M   27                1           28   \n",
       "...             ...    ...  ...              ...          ...   \n",
       "127032       508142      F   26                1           37   \n",
       "127033       508143      F   38                1           28   \n",
       "127034       508144      M   21                1           46   \n",
       "127035       508145      M   71                1           28   \n",
       "127036       508146      M   41                1           29   \n",
       "\n",
       "        Previously_Insured Vehicle_Age Vehicle_Damage  Annual_Premium  \\\n",
       "0                        1    < 1 Year             No           35786   \n",
       "1                        0    1-2 Year            Yes           33762   \n",
       "2                        0    1-2 Year            Yes           40050   \n",
       "3                        1    < 1 Year            Yes           37356   \n",
       "4                        1    < 1 Year             No           59097   \n",
       "...                    ...         ...            ...             ...   \n",
       "127032                   1    < 1 Year             No           30867   \n",
       "127033                   0    1-2 Year            Yes           28700   \n",
       "127034                   1    < 1 Year             No           29802   \n",
       "127035                   1    1-2 Year             No           62875   \n",
       "127036                   1    1-2 Year             No           27927   \n",
       "\n",
       "        Policy_Sales_Channel  Vintage  \n",
       "0                        152       53  \n",
       "1                          7      111  \n",
       "2                        124      199  \n",
       "3                        152      187  \n",
       "4                        152      297  \n",
       "...                      ...      ...  \n",
       "127032                   152       56  \n",
       "127033                   122      165  \n",
       "127034                   152       74  \n",
       "127035                    26      265  \n",
       "127036                   124      231  \n",
       "\n",
       "[127037 rows x 11 columns]"
      ]
     },
     "execution_count": 2,
     "metadata": {},
     "output_type": "execute_result"
    }
   ],
   "source": [
    "path = '/Users/nicolelubaczewska/Downloads/CarInsurance.csv'\n",
    "\n",
    "import pandas as pd\n",
    "\n",
    "carins = pd.read_csv(path)\n",
    "\n",
    "carins"
   ]
  },
  {
   "cell_type": "code",
   "execution_count": 10,
   "id": "41da276c",
   "metadata": {},
   "outputs": [
    {
     "name": "stdout",
     "output_type": "stream",
     "text": [
      "<class 'pandas.core.frame.DataFrame'>\n",
      "RangeIndex: 127037 entries, 0 to 127036\n",
      "Data columns (total 11 columns):\n",
      " #   Column                Non-Null Count   Dtype \n",
      "---  ------                --------------   ----- \n",
      " 0   Customer_ID           127037 non-null  int64 \n",
      " 1   Gender                127037 non-null  object\n",
      " 2   Age                   127037 non-null  int64 \n",
      " 3   Driving_License       127037 non-null  int64 \n",
      " 4   Region_Code           127037 non-null  int64 \n",
      " 5   Previously_Insured    127037 non-null  int64 \n",
      " 6   Vehicle_Age           127037 non-null  object\n",
      " 7   Vehicle_Damage        127037 non-null  object\n",
      " 8   Annual_Premium        127037 non-null  int64 \n",
      " 9   Policy_Sales_Channel  127037 non-null  int64 \n",
      " 10  Vintage               127037 non-null  int64 \n",
      "dtypes: int64(8), object(3)\n",
      "memory usage: 10.7+ MB\n"
     ]
    }
   ],
   "source": [
    "#1.d\n",
    "\n",
    "#2.a\n",
    "\n",
    "carins.info()"
   ]
  },
  {
   "cell_type": "code",
   "execution_count": 13,
   "id": "06cf5939",
   "metadata": {},
   "outputs": [
    {
     "data": {
      "text/plain": [
       "0"
      ]
     },
     "execution_count": 13,
     "metadata": {},
     "output_type": "execute_result"
    }
   ],
   "source": [
    "#3.a\n",
    "\n",
    "carins.isna().sum()\n",
    "carins.duplicated().sum()"
   ]
  },
  {
   "cell_type": "code",
   "execution_count": 38,
   "id": "7ea8ed3a",
   "metadata": {},
   "outputs": [
    {
     "data": {
      "text/plain": [
       "M    0.537135\n",
       "F    0.462865\n",
       "Name: Gender, dtype: float64"
      ]
     },
     "execution_count": 38,
     "metadata": {},
     "output_type": "execute_result"
    }
   ],
   "source": [
    "#4.c\n",
    "\n",
    "carins[carins.Gender == 'M'] #68236\n",
    "carins[carins.Gender == 'F'] # 58801\n",
    "\n",
    "carins.Gender.value_counts(normalize = True)"
   ]
  },
  {
   "cell_type": "code",
   "execution_count": 6,
   "id": "c6c70b33",
   "metadata": {},
   "outputs": [
    {
     "data": {
      "text/plain": [
       "(array([42812., 14630., 12429., 16136., 15524.,  8818.,  7472.,  4875.,\n",
       "         3677.,   664.]),\n",
       " array([20. , 26.5, 33. , 39.5, 46. , 52.5, 59. , 65.5, 72. , 78.5, 85. ]),\n",
       " <BarContainer object of 10 artists>)"
      ]
     },
     "execution_count": 6,
     "metadata": {},
     "output_type": "execute_result"
    },
    {
     "data": {
      "image/png": "[encoded data removed]",
      "text/plain": [
       "<Figure size 432x288 with 1 Axes>"
      ]
     },
     "metadata": {
      "needs_background": "light"
     },
     "output_type": "display_data"
    }
   ],
   "source": [
    "#5.b\n",
    "\n",
    "import matplotlib.pyplot as plt\n",
    "\n",
    "plt.hist(carins.Age) "
   ]
  },
  {
   "cell_type": "code",
   "execution_count": 54,
   "id": "66c60b15",
   "metadata": {},
   "outputs": [
    {
     "data": {
      "text/plain": [
       "(array([   0.,    0., 2223., 2181., 2187., 2205., 2143., 2225., 2219.,\n",
       "        2210., 2104., 2255., 2252., 2114., 2210., 2097., 2242., 2228.,\n",
       "        2216., 2111., 2241., 2156., 2201., 2257., 2136., 2214., 2224.,\n",
       "        2195., 2288., 2222., 2250., 2083., 2167., 2178., 2154., 2182.,\n",
       "        2161., 2196., 2221., 2171., 2209., 2170., 2168., 2154., 2238.,\n",
       "        2198., 2245., 2223., 2197., 2156., 2117., 2201., 2249., 2160.,\n",
       "        2266., 2102., 2080., 2251., 2673.]),\n",
       " array([  0,   5,  10,  15,  20,  25,  30,  35,  40,  45,  50,  55,  60,\n",
       "         65,  70,  75,  80,  85,  90,  95, 100, 105, 110, 115, 120, 125,\n",
       "        130, 135, 140, 145, 150, 155, 160, 165, 170, 175, 180, 185, 190,\n",
       "        195, 200, 205, 210, 215, 220, 225, 230, 235, 240, 245, 250, 255,\n",
       "        260, 265, 270, 275, 280, 285, 290, 295]),\n",
       " <BarContainer object of 59 artists>)"
      ]
     },
     "execution_count": 54,
     "metadata": {},
     "output_type": "execute_result"
    },
    {
     "data": {
      "image/png": "[encoded data removed]",
      "text/plain": [
       "<Figure size 432x288 with 1 Axes>"
      ]
     },
     "metadata": {
      "needs_background": "light"
     },
     "output_type": "display_data"
    }
   ],
   "source": [
    "#6.a\n",
    "\n",
    "plt.hist(carins.Vintage, bins = range(0,300,5))"
   ]
  },
  {
   "cell_type": "code",
   "execution_count": 63,
   "id": "a763c3f5",
   "metadata": {},
   "outputs": [
    {
     "data": {
      "text/plain": [
       "53"
      ]
     },
     "execution_count": 63,
     "metadata": {},
     "output_type": "execute_result"
    }
   ],
   "source": [
    "#7.c\n",
    "\n",
    "len(carins['Region_Code'].unique())"
   ]
  },
  {
   "cell_type": "code",
   "execution_count": 4,
   "id": "b3fa3a21",
   "metadata": {},
   "outputs": [
    {
     "data": {
      "text/plain": [
       "1536.0"
      ]
     },
     "execution_count": 4,
     "metadata": {},
     "output_type": "execute_result"
    }
   ],
   "source": [
    "#8.b\n",
    "\n",
    "carins[['Annual_Premium','Vehicle_Damage']].groupby('Vehicle_Damage').agg('median')\n",
    "\n",
    "32476.0-30940.0"
   ]
  },
  {
   "cell_type": "code",
   "execution_count": 79,
   "id": "6e3a52ff",
   "metadata": {},
   "outputs": [
    {
     "data": {
      "text/html": [
       "<div>\n",
       "<style scoped>\n",
       "    .dataframe tbody tr th:only-of-type {\n",
       "        vertical-align: middle;\n",
       "    }\n",
       "\n",
       "    .dataframe tbody tr th {\n",
       "        vertical-align: top;\n",
       "    }\n",
       "\n",
       "    .dataframe thead th {\n",
       "        text-align: right;\n",
       "    }\n",
       "</style>\n",
       "<table border=\"1\" class=\"dataframe\">\n",
       "  <thead>\n",
       "    <tr style=\"text-align: right;\">\n",
       "      <th></th>\n",
       "      <th>Annual_Premium</th>\n",
       "    </tr>\n",
       "    <tr>\n",
       "      <th>Vehicle_Age</th>\n",
       "      <th></th>\n",
       "    </tr>\n",
       "  </thead>\n",
       "  <tbody>\n",
       "    <tr>\n",
       "      <th>1-2 Year</th>\n",
       "      <td>30489.908844</td>\n",
       "    </tr>\n",
       "    <tr>\n",
       "      <th>&lt; 1 Year</th>\n",
       "      <td>30084.525709</td>\n",
       "    </tr>\n",
       "    <tr>\n",
       "      <th>&gt; 2 Years</th>\n",
       "      <td>35512.727204</td>\n",
       "    </tr>\n",
       "  </tbody>\n",
       "</table>\n",
       "</div>"
      ],
      "text/plain": [
       "             Annual_Premium\n",
       "Vehicle_Age                \n",
       "1-2 Year       30489.908844\n",
       "< 1 Year       30084.525709\n",
       "> 2 Years      35512.727204"
      ]
     },
     "execution_count": 79,
     "metadata": {},
     "output_type": "execute_result"
    }
   ],
   "source": [
    "#9.a\n",
    "\n",
    "carins[['Annual_Premium','Vehicle_Age']].groupby('Vehicle_Age').agg('mean')\n"
   ]
  },
  {
   "cell_type": "code",
   "execution_count": 7,
   "id": "924667a5",
   "metadata": {},
   "outputs": [
    {
     "data": {
      "image/png": "[encoded data removed]",
      "text/plain": [
       "<Figure size 432x288 with 1 Axes>"
      ]
     },
     "metadata": {
      "needs_background": "light"
     },
     "output_type": "display_data"
    },
    {
     "data": {
      "text/html": [
       "<div>\n",
       "<style scoped>\n",
       "    .dataframe tbody tr th:only-of-type {\n",
       "        vertical-align: middle;\n",
       "    }\n",
       "\n",
       "    .dataframe tbody tr th {\n",
       "        vertical-align: top;\n",
       "    }\n",
       "\n",
       "    .dataframe thead th {\n",
       "        text-align: right;\n",
       "    }\n",
       "</style>\n",
       "<table border=\"1\" class=\"dataframe\">\n",
       "  <thead>\n",
       "    <tr style=\"text-align: right;\">\n",
       "      <th></th>\n",
       "      <th>Annual_Premium</th>\n",
       "      <th>Vintage</th>\n",
       "    </tr>\n",
       "  </thead>\n",
       "  <tbody>\n",
       "    <tr>\n",
       "      <th>Annual_Premium</th>\n",
       "      <td>1.000000</td>\n",
       "      <td>-0.001607</td>\n",
       "    </tr>\n",
       "    <tr>\n",
       "      <th>Vintage</th>\n",
       "      <td>-0.001607</td>\n",
       "      <td>1.000000</td>\n",
       "    </tr>\n",
       "  </tbody>\n",
       "</table>\n",
       "</div>"
      ],
      "text/plain": [
       "                Annual_Premium   Vintage\n",
       "Annual_Premium        1.000000 -0.001607\n",
       "Vintage              -0.001607  1.000000"
      ]
     },
     "execution_count": 7,
     "metadata": {},
     "output_type": "execute_result"
    }
   ],
   "source": [
    "#10.d\n",
    "\n",
    "plt.scatter(carins['Vintage'], carins['Annual_Premium'], alpha = 0.15)\n",
    "plt.show()\n",
    "\n",
    "carins[['Annual_Premium', 'Vintage']].corr()"
   ]
  },
  {
   "cell_type": "code",
   "execution_count": 90,
   "id": "bdc5d969",
   "metadata": {},
   "outputs": [
    {
     "data": {
      "text/html": [
       "<div>\n",
       "<style scoped>\n",
       "    .dataframe tbody tr th:only-of-type {\n",
       "        vertical-align: middle;\n",
       "    }\n",
       "\n",
       "    .dataframe tbody tr th {\n",
       "        vertical-align: top;\n",
       "    }\n",
       "\n",
       "    .dataframe thead th {\n",
       "        text-align: right;\n",
       "    }\n",
       "</style>\n",
       "<table border=\"1\" class=\"dataframe\">\n",
       "  <thead>\n",
       "    <tr style=\"text-align: right;\">\n",
       "      <th></th>\n",
       "      <th>Annual_Premium</th>\n",
       "    </tr>\n",
       "    <tr>\n",
       "      <th>Gender</th>\n",
       "      <th></th>\n",
       "    </tr>\n",
       "  </thead>\n",
       "  <tbody>\n",
       "    <tr>\n",
       "      <th>F</th>\n",
       "      <td>30470.470485</td>\n",
       "    </tr>\n",
       "    <tr>\n",
       "      <th>M</th>\n",
       "      <td>30571.326147</td>\n",
       "    </tr>\n",
       "  </tbody>\n",
       "</table>\n",
       "</div>"
      ],
      "text/plain": [
       "        Annual_Premium\n",
       "Gender                \n",
       "F         30470.470485\n",
       "M         30571.326147"
      ]
     },
     "execution_count": 90,
     "metadata": {},
     "output_type": "execute_result"
    }
   ],
   "source": [
    "#11.d\n",
    "\n",
    "carins[['Gender','Annual_Premium']].groupby('Gender').agg('mean')\n"
   ]
  },
  {
   "cell_type": "code",
   "execution_count": 121,
   "id": "723ee709",
   "metadata": {},
   "outputs": [
    {
     "data": {
      "text/plain": [
       "2630.0"
      ]
     },
     "execution_count": 121,
     "metadata": {},
     "output_type": "execute_result"
    }
   ],
   "source": [
    "#12.a\n",
    "\n",
    "FilteredCarins = (carins.Gender == 'F') & (carins.Age == 36) & (carins.Previously_Insured == 1) & (carins.Vehicle_Damage == 'No') & (carins.Vehicle_Age == '< 1 Year')\n",
    "\n",
    "carins.Annual_Premium[FilteredCarins].mean()\n"
   ]
  },
  {
   "cell_type": "code",
   "execution_count": 156,
   "id": "85cb29f9",
   "metadata": {},
   "outputs": [
    {
     "data": {
      "text/plain": [
       "1-2 Year     66699\n",
       "< 1 Year     55019\n",
       "> 2 Years     5319\n",
       "Name: Vehicle_Age, dtype: int64"
      ]
     },
     "execution_count": 156,
     "metadata": {},
     "output_type": "execute_result"
    }
   ],
   "source": [
    "#13.b\n",
    "\n",
    "carins.Age.median() #approx. 36 years old\n",
    "\n",
    "carins.Gender.value_counts() #more Males\n",
    "\n",
    "carins.Previously_Insured.value_counts() #not insured more\n",
    "\n",
    "carins.Vehicle_Damage.value_counts() #more damages by little\n",
    "\n",
    "carins.Annual_Premium.mean() #30525\n",
    "\n",
    "carins.Vehicle_Age.value_counts()"
   ]
  },
  {
   "cell_type": "code",
   "execution_count": 174,
   "id": "c4cb82d6",
   "metadata": {},
   "outputs": [
    {
     "data": {
      "text/plain": [
       "Yes    155\n",
       "No      82\n",
       "Name: Vehicle_Damage, dtype: int64"
      ]
     },
     "execution_count": 174,
     "metadata": {},
     "output_type": "execute_result"
    }
   ],
   "source": [
    "#14.c\n",
    "\n",
    "NoDL = carins[(carins.Driving_License == 0)]\n",
    "\n",
    "NoDL['Age'].median() #69 median\n",
    "NoDL['Region_Code'].value_counts().nlargest(1) #28\n",
    "NoDL['Gender'].value_counts() #male\n",
    "NoDL['Previously_Insured'].value_counts() #not\n",
    "NoDL['Vehicle_Damage'].value_counts() #yes\n"
   ]
  },
  {
   "cell_type": "code",
   "execution_count": 146,
   "id": "d651381d",
   "metadata": {},
   "outputs": [
    {
     "data": {
      "text/plain": [
       "9.0"
      ]
     },
     "execution_count": 146,
     "metadata": {},
     "output_type": "execute_result"
    }
   ],
   "source": [
    "#15.b\n",
    "\n",
    "6.0+3.0"
   ]
  },
  {
   "cell_type": "code",
   "execution_count": 175,
   "id": "0556097a",
   "metadata": {},
   "outputs": [],
   "source": [
    "#16. a,e\n",
    "\n",
    "def addTwo(x): \n",
    "    \"\"\"Adds two\"\"\" \n",
    "    x = x + 2 \n",
    "    return(x)\n"
   ]
  },
  {
   "cell_type": "code",
   "execution_count": 9,
   "id": "00bcd2f8",
   "metadata": {},
   "outputs": [
    {
     "name": "stdout",
     "output_type": "stream",
     "text": [
      "agua\n"
     ]
    }
   ],
   "source": [
    "#17.b\n",
    "\n",
    "element = 'water'\n",
    "\n",
    "if (element == 'water'):\n",
    "    print('agua')\n",
    "elif element == 'fire':\n",
    "    print('fuego')\n",
    "elif element == 'earth':\n",
    "    print('tierra')\n",
    "else:\n",
    "    print('error')"
   ]
  },
  {
   "cell_type": "code",
   "execution_count": null,
   "id": "ec6e6963",
   "metadata": {},
   "outputs": [],
   "source": []
  }
 ],
 "metadata": {
  "kernelspec": {
   "display_name": "Python 3 (ipykernel)",
   "language": "python",
   "name": "python3"
  },
  "language_info": {
   "codemirror_mode": {
    "name": "ipython",
    "version": 3
   },
   "file_extension": ".py",
   "mimetype": "text/x-python",
   "name": "python",
   "nbconvert_exporter": "python",
   "pygments_lexer": "ipython3",
   "version": "3.9.12"
  }
 },
 "nbformat": 4,
 "nbformat_minor": 5
}
